{
  "cells": [
    {
      "cell_type": "code",
      "execution_count": null,
      "metadata": {
        "colab": {
          "base_uri": "https://localhost:8080/"
        },
        "id": "4qi-9IHuFk0v",
        "outputId": "92299ce3-b6f8-4497-d47f-d3eb0f78a0fd"
      },
      "outputs": [
        {
          "output_type": "stream",
          "name": "stdout",
          "text": [
            "Drive already mounted at /content/drive; to attempt to forcibly remount, call drive.mount(\"/content/drive\", force_remount=True).\n"
          ]
        }
      ],
      "source": [
        "import sys\n",
        "IN_COLAB = 'google.colab' in sys.modules\n",
        "\n",
        "if IN_COLAB:\n",
        "  from google.colab import drive\n",
        "  drive.mount('/content/drive')\n",
        "  drive_path = './drive/MyDrive/'\n",
        "else:\n",
        "  drive_path = './'"
      ]
    },
    {
      "cell_type": "code",
      "execution_count": null,
      "metadata": {
        "colab": {
          "base_uri": "https://localhost:8080/"
        },
        "id": "o_qiTl-xBKR0",
        "outputId": "94a0b550-db5a-450c-814b-4010a9ddf223"
      },
      "outputs": [
        {
          "output_type": "stream",
          "name": "stdout",
          "text": [
            "fatal: destination path 'rfml' already exists and is not an empty directory.\n"
          ]
        }
      ],
      "source": [
        "!git clone https://github.com/ArashSameni/rfml"
      ]
    },
    {
      "cell_type": "code",
      "execution_count": null,
      "metadata": {
        "colab": {
          "base_uri": "https://localhost:8080/"
        },
        "id": "wkqVBgjRBKR1",
        "outputId": "9dbbd8d2-a79e-4b48-b863-d983900c5601"
      },
      "outputs": [
        {
          "output_type": "stream",
          "name": "stdout",
          "text": [
            "Obtaining file:///content/rfml\n",
            "  Preparing metadata (setup.py) ... \u001b[?25l\u001b[?25hdone\n",
            "Requirement already satisfied: numpy>=0.7.0 in /usr/local/lib/python3.10/dist-packages (from rfml==1.0.0) (1.26.4)\n",
            "Requirement already satisfied: PyYAML>=3.11 in /usr/local/lib/python3.10/dist-packages (from rfml==1.0.0) (6.0.2)\n",
            "Requirement already satisfied: pandas>=0.24.1 in /usr/local/lib/python3.10/dist-packages (from rfml==1.0.0) (2.1.4)\n",
            "Requirement already satisfied: setGPU>=0.0.7 in /root/.local/lib/python3.10/site-packages (from rfml==1.0.0) (0.0.7)\n",
            "Requirement already satisfied: torch>=1.0.0 in /usr/local/lib/python3.10/dist-packages (from rfml==1.0.0) (2.4.0+cu121)\n",
            "Requirement already satisfied: python-dateutil>=2.8.2 in /usr/local/lib/python3.10/dist-packages (from pandas>=0.24.1->rfml==1.0.0) (2.8.2)\n",
            "Requirement already satisfied: pytz>=2020.1 in /usr/local/lib/python3.10/dist-packages (from pandas>=0.24.1->rfml==1.0.0) (2024.1)\n",
            "Requirement already satisfied: tzdata>=2022.1 in /usr/local/lib/python3.10/dist-packages (from pandas>=0.24.1->rfml==1.0.0) (2024.1)\n",
            "Requirement already satisfied: gpustat in /root/.local/lib/python3.10/site-packages (from setGPU>=0.0.7->rfml==1.0.0) (1.1.1)\n",
            "Requirement already satisfied: filelock in /usr/local/lib/python3.10/dist-packages (from torch>=1.0.0->rfml==1.0.0) (3.15.4)\n",
            "Requirement already satisfied: typing-extensions>=4.8.0 in /usr/local/lib/python3.10/dist-packages (from torch>=1.0.0->rfml==1.0.0) (4.12.2)\n",
            "Requirement already satisfied: sympy in /usr/local/lib/python3.10/dist-packages (from torch>=1.0.0->rfml==1.0.0) (1.13.2)\n",
            "Requirement already satisfied: networkx in /usr/local/lib/python3.10/dist-packages (from torch>=1.0.0->rfml==1.0.0) (3.3)\n",
            "Requirement already satisfied: jinja2 in /usr/local/lib/python3.10/dist-packages (from torch>=1.0.0->rfml==1.0.0) (3.1.4)\n",
            "Requirement already satisfied: fsspec in /usr/local/lib/python3.10/dist-packages (from torch>=1.0.0->rfml==1.0.0) (2024.6.1)\n",
            "Requirement already satisfied: six>=1.5 in /usr/local/lib/python3.10/dist-packages (from python-dateutil>=2.8.2->pandas>=0.24.1->rfml==1.0.0) (1.16.0)\n",
            "Requirement already satisfied: nvidia-ml-py>=11.450.129 in /root/.local/lib/python3.10/site-packages (from gpustat->setGPU>=0.0.7->rfml==1.0.0) (12.560.30)\n",
            "Requirement already satisfied: psutil>=5.6.0 in /usr/local/lib/python3.10/dist-packages (from gpustat->setGPU>=0.0.7->rfml==1.0.0) (5.9.5)\n",
            "Requirement already satisfied: blessed>=1.17.1 in /root/.local/lib/python3.10/site-packages (from gpustat->setGPU>=0.0.7->rfml==1.0.0) (1.20.0)\n",
            "Requirement already satisfied: MarkupSafe>=2.0 in /usr/local/lib/python3.10/dist-packages (from jinja2->torch>=1.0.0->rfml==1.0.0) (2.1.5)\n",
            "Requirement already satisfied: mpmath<1.4,>=1.1.0 in /usr/local/lib/python3.10/dist-packages (from sympy->torch>=1.0.0->rfml==1.0.0) (1.3.0)\n",
            "Requirement already satisfied: wcwidth>=0.1.4 in /usr/local/lib/python3.10/dist-packages (from blessed>=1.17.1->gpustat->setGPU>=0.0.7->rfml==1.0.0) (0.2.13)\n",
            "Installing collected packages: rfml\n",
            "  Attempting uninstall: rfml\n",
            "    Found existing installation: rfml 1.0.0\n",
            "    Uninstalling rfml-1.0.0:\n",
            "      Successfully uninstalled rfml-1.0.0\n",
            "  Running setup.py develop for rfml\n",
            "Successfully installed rfml\n"
          ]
        }
      ],
      "source": [
        "!pip install --user -e ./rfml"
      ]
    },
    {
      "cell_type": "code",
      "execution_count": null,
      "metadata": {
        "id": "N3GcqR0vXjP0"
      },
      "outputs": [],
      "source": [
        "import torch\n",
        "import numpy as np\n",
        "import torch.nn as nn\n",
        "import matplotlib.pyplot as plt\n",
        "from torch.utils.data import DataLoader\n",
        "\n",
        "# Internal Includes\n",
        "from rfml.nn.model import Model\n",
        "from rfml.data import Dataset, Encoder\n",
        "from rfml.data.converters import load_RML201610A_dataset\n",
        "from rfml.nn.train import StandardTrainingStrategy, PrintingTrainingListener\n",
        "from rfml.nbutils import plot_acc_vs_snr, plot_confusion, plot_IQ\n",
        "from rfml.nn.eval import compute_accuracy, compute_accuracy_on_cross_sections, compute_confusion\n",
        "from pandas import DataFrame\n",
        "\n",
        "from typing import List\n",
        "from pprint import pprint"
      ]
    },
    {
      "cell_type": "code",
      "execution_count": null,
      "metadata": {
        "id": "PdOxI41bGXvo"
      },
      "outputs": [],
      "source": [
        "np.random.seed(0)\n",
        "torch.manual_seed(0)\n",
        "torch.backends.cudnn.deterministic = True\n",
        "torch.backends.cudnn.benchmark = False"
      ]
    },
    {
      "cell_type": "code",
      "execution_count": null,
      "metadata": {
        "id": "1tIv14UgBKR2"
      },
      "outputs": [],
      "source": [
        "fig_dir = None   # Set to a file path if you'd like to save the plots generated\n",
        "data_path = drive_path + 'RML2016.10a_dict.pkl' # Set to a file path if you've downloaded RML2016.10A locally"
      ]
    },
    {
      "cell_type": "code",
      "execution_count": null,
      "metadata": {
        "colab": {
          "base_uri": "https://localhost:8080/"
        },
        "id": "28-c4_DyBKR2",
        "outputId": "9fb80aa2-ba15-4b18-c328-4872bc5baabe"
      },
      "outputs": [
        {
          "output_type": "stream",
          "name": "stdout",
          "text": [
            "Dataset size: 220000\n",
            "{'8PSK': 20000,\n",
            " 'AM-DSB': 20000,\n",
            " 'AM-SSB': 20000,\n",
            " 'BPSK': 20000,\n",
            " 'CPFSK': 20000,\n",
            " 'GFSK': 20000,\n",
            " 'PAM4': 20000,\n",
            " 'QAM16': 20000,\n",
            " 'QAM64': 20000,\n",
            " 'QPSK': 20000,\n",
            " 'WBFM': 20000}\n"
          ]
        }
      ],
      "source": [
        "dataset = load_RML201610A_dataset(path=data_path)\n",
        "print(f'Dataset size: {len(dataset)}')\n",
        "pprint(dataset.get_examples_per_class())"
      ]
    },
    {
      "cell_type": "code",
      "execution_count": null,
      "metadata": {
        "colab": {
          "base_uri": "https://localhost:8080/"
        },
        "id": "fT7UTlXOBKR2",
        "outputId": "aa35c731-0e19-4423-b6eb-ee773083d962"
      },
      "outputs": [
        {
          "output_type": "stream",
          "name": "stdout",
          "text": [
            "Modulations: {'AM-DSB', '8PSK', 'PAM4', 'QAM16', 'BPSK', 'AM-SSB', 'WBFM', 'QPSK', 'CPFSK', 'QAM64', 'GFSK'}\n",
            "SNRs: {0, 2, 4, 6, 8, 10, 12, 14, 16, 18, -20, -18, -16, -14, -12, -10, -8, -6, -4, -2}\n"
          ]
        }
      ],
      "source": [
        "print(f'Modulations: {dataset.metadata[\"Modulation\"]}')\n",
        "print(f'SNRs: {dataset.metadata[\"SNR\"]}')"
      ]
    },
    {
      "cell_type": "code",
      "execution_count": null,
      "metadata": {
        "colab": {
          "base_uri": "https://localhost:8080/"
        },
        "id": "uSwkQIJXBKR2",
        "outputId": "26d9cb10-5c93-49db-833c-ab09a47f44fa"
      },
      "outputs": [
        {
          "output_type": "stream",
          "name": "stdout",
          "text": [
            "Training Examples\n",
            "=================\n",
            "{'8PSK': 10000,\n",
            " 'AM-DSB': 10000,\n",
            " 'AM-SSB': 10000,\n",
            " 'BPSK': 10000,\n",
            " 'CPFSK': 10000,\n",
            " 'GFSK': 10000,\n",
            " 'PAM4': 10000,\n",
            " 'QAM16': 10000,\n",
            " 'QAM64': 10000,\n",
            " 'QPSK': 10000,\n",
            " 'WBFM': 10000}\n",
            "=================\n",
            "\n",
            "Testing Examples\n",
            "=================\n",
            "{'8PSK': 10000,\n",
            " 'AM-DSB': 10000,\n",
            " 'AM-SSB': 10000,\n",
            " 'BPSK': 10000,\n",
            " 'CPFSK': 10000,\n",
            " 'GFSK': 10000,\n",
            " 'PAM4': 10000,\n",
            " 'QAM16': 10000,\n",
            " 'QAM64': 10000,\n",
            " 'QPSK': 10000,\n",
            " 'WBFM': 10000}\n",
            "=================\n"
          ]
        }
      ],
      "source": [
        "train, test = dataset.split(frac=0.5, on=[\"Modulation\", \"SNR\"])\n",
        "\n",
        "print(\"Training Examples\")\n",
        "print(\"=================\")\n",
        "pprint(train.get_examples_per_class())\n",
        "print(\"=================\")\n",
        "print()\n",
        "print(\"Testing Examples\")\n",
        "print(\"=================\")\n",
        "pprint(test.get_examples_per_class())\n",
        "print(\"=================\")"
      ]
    },
    {
      "cell_type": "code",
      "execution_count": null,
      "metadata": {
        "colab": {
          "base_uri": "https://localhost:8080/"
        },
        "id": "ynod1MZPBKR2",
        "outputId": "89a77bd9-3e61-414a-e60c-e273a0cf5b56"
      },
      "outputs": [
        {
          "output_type": "stream",
          "name": "stdout",
          "text": [
            "8PSK: 0\n",
            "AM-DSB: 1\n",
            "AM-SSB: 2\n",
            "BPSK: 3\n",
            "CPFSK: 4\n",
            "GFSK: 5\n",
            "PAM4: 6\n",
            "QAM16: 7\n",
            "QAM64: 8\n",
            "QPSK: 9\n",
            "WBFM: 10\n",
            "\n"
          ]
        }
      ],
      "source": [
        "le = Encoder([\n",
        "    '8PSK',\n",
        "    'AM-DSB',\n",
        "    'AM-SSB',\n",
        "    'BPSK',\n",
        "    'CPFSK',\n",
        "    'GFSK',\n",
        "    'PAM4',\n",
        "    'QAM16',\n",
        "    'QAM64',\n",
        "    'QPSK',\n",
        "    'WBFM'], label_name=\"Modulation\")\n",
        "print(le)"
      ]
    },
    {
      "cell_type": "code",
      "execution_count": null,
      "metadata": {
        "colab": {
          "base_uri": "https://localhost:8080/",
          "height": 487
        },
        "id": "zydOeZCOBKR3",
        "outputId": "7fb8cb2d-9cc1-4873-92eb-b77cc3ee130b"
      },
      "outputs": [
        {
          "output_type": "display_data",
          "data": {
            "text/plain": [
              "<Figure size 1000x500 with 1 Axes>"
            ],
            "image/png": "[encoded data removed]"
          },
          "metadata": {}
        }
      ],
      "source": [
        "# Plot a sample of the data\n",
        "# You can choose a different sample by changing\n",
        "idx = 10\n",
        "snr = 18\n",
        "modulation = \"CPFSK\"\n",
        "\n",
        "mask = (dataset.df[\"SNR\"] == snr) & (dataset.df[\"Modulation\"] == modulation)\n",
        "sample = dataset.as_numpy(mask=mask, le=le)[0][idx,0,:]\n",
        "t = np.arange(sample.shape[1])\n",
        "\n",
        "title = \"{modulation} Sample at {snr:.0f} dB SNR\".format(modulation=modulation, snr=snr)\n",
        "fig = plot_IQ(iq=sample, title=title)\n",
        "if fig_dir is not None:\n",
        "    file_path = \"{fig_dir}/{modulation}_{snr:.0f}dB_sample.pdf\".format(fig_dir=fig_dir,\n",
        "                                                                       modulation=modulation,\n",
        "                                                                       snr=snr)\n",
        "    print(\"Saving Figure -> {file_path}\".format(file_path=file_path))\n",
        "    fig.savefig(file_path, format=\"pdf\", transparent=True)\n",
        "plt.show()"
      ]
    },
    {
      "cell_type": "code",
      "execution_count": null,
      "metadata": {
        "id": "q9OeF-M3KzhQ"
      },
      "outputs": [],
      "source": [
        "class VT_CNN2(Model):\n",
        "    def __init__(\n",
        "        self,\n",
        "        n_classes: int = 11,\n",
        "        dropout: float = 0.5,\n",
        "    ):\n",
        "        super().__init__(input_samples=128, n_classes=n_classes)\n",
        "\n",
        "        self.model = nn.Sequential(\n",
        "            nn.ZeroPad2d(\n",
        "                padding=(\n",
        "                    2,\n",
        "                    2,\n",
        "                    0,\n",
        "                    0,\n",
        "                )\n",
        "            ),  # zero pad front/back of each signal by 2\n",
        "            nn.Conv2d(\n",
        "                in_channels=1, out_channels=256, kernel_size=(1, 3), stride=1, padding=0, bias=False\n",
        "            ),\n",
        "            nn.ReLU(),\n",
        "            nn.Dropout(p=dropout),\n",
        "            nn.ZeroPad2d(\n",
        "                padding=(\n",
        "                    2,\n",
        "                    2,\n",
        "                    0,\n",
        "                    0,\n",
        "                )\n",
        "            ),  # zero pad front/back of each signal by 2\n",
        "            nn.Conv2d(\n",
        "                in_channels=256,\n",
        "                out_channels=80,\n",
        "                kernel_size=(2, 3),\n",
        "                stride=1,\n",
        "                padding=0,\n",
        "            ),\n",
        "            nn.ReLU(),\n",
        "            nn.Dropout(p=dropout),\n",
        "            nn.Flatten(),\n",
        "            nn.Linear(in_features=10560, out_features=256, bias=True),\n",
        "            nn.ReLU(),\n",
        "            nn.Dropout(p=dropout),\n",
        "            nn.Linear(in_features=256, out_features=n_classes, bias=True),\n",
        "        )\n",
        "\n",
        "    def forward(self, x):\n",
        "        return self.model(x)"
      ]
    },
    {
      "cell_type": "code",
      "execution_count": null,
      "metadata": {
        "colab": {
          "base_uri": "https://localhost:8080/"
        },
        "id": "_JgLBBjLK3Lr",
        "outputId": "90595b20-e8c2-404f-9666-5af26fbb8555"
      },
      "outputs": [
        {
          "output_type": "stream",
          "name": "stdout",
          "text": [
            "VT_CNN2(\n",
            "  (model): Sequential(\n",
            "    (0): ZeroPad2d((2, 2, 0, 0))\n",
            "    (1): Conv2d(1, 256, kernel_size=(1, 3), stride=(1, 1), bias=False)\n",
            "    (2): ReLU()\n",
            "    (3): Dropout(p=0.5, inplace=False)\n",
            "    (4): ZeroPad2d((2, 2, 0, 0))\n",
            "    (5): Conv2d(256, 80, kernel_size=(2, 3), stride=(1, 1))\n",
            "    (6): ReLU()\n",
            "    (7): Dropout(p=0.5, inplace=False)\n",
            "    (8): Flatten(start_dim=1, end_dim=-1)\n",
            "    (9): Linear(in_features=10560, out_features=256, bias=True)\n",
            "    (10): ReLU()\n",
            "    (11): Dropout(p=0.5, inplace=False)\n",
            "    (12): Linear(in_features=256, out_features=11, bias=True)\n",
            "  )\n",
            ")\n",
            "----------------------\n",
            "Trainable Parameters: 2830171\n",
            "Fixed Parameters: 0\n",
            "Total Parameters: 2830171\n",
            "----------------------\n",
            "\n",
            "Number of Learnable Parameters: 2830171\n"
          ]
        }
      ],
      "source": [
        "model = VT_CNN2()\n",
        "if torch.cuda.is_available():\n",
        "  model.cuda()\n",
        "\n",
        "# Print model summary\n",
        "print(model)\n",
        "\n",
        "learnable_params = sum(p.numel() for p in model.parameters() if p.requires_grad)\n",
        "print(f'Number of Learnable Parameters: {learnable_params}')"
      ]
    },
    {
      "cell_type": "code",
      "execution_count": null,
      "metadata": {
        "id": "1DpGQzIqVKW3"
      },
      "outputs": [],
      "source": [
        "lr = 1e-3           # learning rate\n",
        "max_epochs = 100    # number of epochs to train on\n",
        "batch_size = 1024   # training batch size\n",
        "n_classes = 11      # number of classes\n",
        "patience = 5        # patience of early stopping\n",
        "\n",
        "training_listener = PrintingTrainingListener()"
      ]
    },
    {
      "cell_type": "code",
      "execution_count": null,
      "metadata": {
        "id": "rBXXYFOZKrFg"
      },
      "outputs": [],
      "source": [
        "trainer = StandardTrainingStrategy(lr, max_epochs, patience, batch_size, gpu=True)\n",
        "trainer.register_listener(training_listener)"
      ]
    },
    {
      "cell_type": "code",
      "execution_count": null,
      "metadata": {
        "colab": {
          "base_uri": "https://localhost:8080/",
          "height": 1000
        },
        "id": "MTy94lvuaWvX",
        "outputId": "fcb1e9d5-a241-48c3-c9f6-0fca1b169de4"
      },
      "outputs": [
        {
          "name": "stdout",
          "output_type": "stream",
          "text": [
            "Epoch 0 completed!\n",
            "\t\t-Mean Training Loss: 2.131\n",
            "\t\t-Mean Validation Loss: 1.935\n",
            "Epoch 1 completed!\n",
            "\t\t-Mean Training Loss: 1.899\n",
            "\t\t-Mean Validation Loss: 1.782\n",
            "Epoch 2 completed!\n",
            "\t\t-Mean Training Loss: 1.766\n",
            "\t\t-Mean Validation Loss: 1.646\n",
            "Epoch 3 completed!\n",
            "\t\t-Mean Training Loss: 1.675\n",
            "\t\t-Mean Validation Loss: 1.558\n",
            "Epoch 4 completed!\n",
            "\t\t-Mean Training Loss: 1.609\n",
            "\t\t-Mean Validation Loss: 1.502\n",
            "Epoch 5 completed!\n",
            "\t\t-Mean Training Loss: 1.553\n",
            "\t\t-Mean Validation Loss: 1.442\n",
            "Epoch 6 completed!\n",
            "\t\t-Mean Training Loss: 1.514\n",
            "\t\t-Mean Validation Loss: 1.409\n",
            "Epoch 7 completed!\n",
            "\t\t-Mean Training Loss: 1.483\n",
            "\t\t-Mean Validation Loss: 1.380\n",
            "Epoch 8 completed!\n",
            "\t\t-Mean Training Loss: 1.461\n",
            "\t\t-Mean Validation Loss: 1.363\n",
            "Epoch 9 completed!\n",
            "\t\t-Mean Training Loss: 1.441\n",
            "\t\t-Mean Validation Loss: 1.344\n",
            "Epoch 10 completed!\n",
            "\t\t-Mean Training Loss: 1.422\n",
            "\t\t-Mean Validation Loss: 1.345\n",
            "Epoch 11 completed!\n",
            "\t\t-Mean Training Loss: 1.411\n",
            "\t\t-Mean Validation Loss: 1.324\n",
            "Epoch 12 completed!\n",
            "\t\t-Mean Training Loss: 1.397\n",
            "\t\t-Mean Validation Loss: 1.319\n",
            "Epoch 13 completed!\n",
            "\t\t-Mean Training Loss: 1.391\n",
            "\t\t-Mean Validation Loss: 1.309\n",
            "Epoch 14 completed!\n",
            "\t\t-Mean Training Loss: 1.383\n",
            "\t\t-Mean Validation Loss: 1.306\n",
            "Epoch 15 completed!\n",
            "\t\t-Mean Training Loss: 1.374\n",
            "\t\t-Mean Validation Loss: 1.305\n",
            "Epoch 16 completed!\n",
            "\t\t-Mean Training Loss: 1.365\n",
            "\t\t-Mean Validation Loss: 1.299\n",
            "Epoch 17 completed!\n",
            "\t\t-Mean Training Loss: 1.363\n",
            "\t\t-Mean Validation Loss: 1.289\n",
            "Epoch 18 completed!\n",
            "\t\t-Mean Training Loss: 1.350\n",
            "\t\t-Mean Validation Loss: 1.287\n",
            "Epoch 19 completed!\n",
            "\t\t-Mean Training Loss: 1.348\n",
            "\t\t-Mean Validation Loss: 1.284\n",
            "Epoch 20 completed!\n",
            "\t\t-Mean Training Loss: 1.339\n",
            "\t\t-Mean Validation Loss: 1.284\n",
            "Epoch 21 completed!\n",
            "\t\t-Mean Training Loss: 1.333\n",
            "\t\t-Mean Validation Loss: 1.271\n",
            "Epoch 22 completed!\n",
            "\t\t-Mean Training Loss: 1.324\n",
            "\t\t-Mean Validation Loss: 1.270\n",
            "Epoch 23 completed!\n",
            "\t\t-Mean Training Loss: 1.320\n",
            "\t\t-Mean Validation Loss: 1.265\n",
            "Epoch 24 completed!\n",
            "\t\t-Mean Training Loss: 1.313\n",
            "\t\t-Mean Validation Loss: 1.260\n",
            "Epoch 25 completed!\n",
            "\t\t-Mean Training Loss: 1.308\n",
            "\t\t-Mean Validation Loss: 1.257\n",
            "Epoch 26 completed!\n",
            "\t\t-Mean Training Loss: 1.303\n",
            "\t\t-Mean Validation Loss: 1.257\n",
            "Epoch 27 completed!\n",
            "\t\t-Mean Training Loss: 1.300\n",
            "\t\t-Mean Validation Loss: 1.252\n",
            "Epoch 28 completed!\n",
            "\t\t-Mean Training Loss: 1.295\n",
            "\t\t-Mean Validation Loss: 1.252\n",
            "Epoch 29 completed!\n",
            "\t\t-Mean Training Loss: 1.288\n",
            "\t\t-Mean Validation Loss: 1.247\n",
            "Epoch 30 completed!\n",
            "\t\t-Mean Training Loss: 1.288\n",
            "\t\t-Mean Validation Loss: 1.248\n",
            "Epoch 31 completed!\n",
            "\t\t-Mean Training Loss: 1.284\n",
            "\t\t-Mean Validation Loss: 1.246\n",
            "Epoch 32 completed!\n",
            "\t\t-Mean Training Loss: 1.277\n",
            "\t\t-Mean Validation Loss: 1.246\n",
            "Epoch 33 completed!\n",
            "\t\t-Mean Training Loss: 1.273\n",
            "\t\t-Mean Validation Loss: 1.243\n",
            "Epoch 34 completed!\n",
            "\t\t-Mean Training Loss: 1.272\n",
            "\t\t-Mean Validation Loss: 1.242\n",
            "Epoch 35 completed!\n",
            "\t\t-Mean Training Loss: 1.268\n",
            "\t\t-Mean Validation Loss: 1.242\n",
            "Epoch 36 completed!\n",
            "\t\t-Mean Training Loss: 1.264\n",
            "\t\t-Mean Validation Loss: 1.241\n",
            "Epoch 37 completed!\n",
            "\t\t-Mean Training Loss: 1.259\n",
            "\t\t-Mean Validation Loss: 1.239\n",
            "Epoch 38 completed!\n",
            "\t\t-Mean Training Loss: 1.256\n",
            "\t\t-Mean Validation Loss: 1.235\n",
            "Epoch 39 completed!\n",
            "\t\t-Mean Training Loss: 1.251\n",
            "\t\t-Mean Validation Loss: 1.238\n",
            "Epoch 40 completed!\n",
            "\t\t-Mean Training Loss: 1.249\n",
            "\t\t-Mean Validation Loss: 1.235\n",
            "Epoch 41 completed!\n",
            "\t\t-Mean Training Loss: 1.246\n",
            "\t\t-Mean Validation Loss: 1.239\n",
            "Epoch 42 completed!\n",
            "\t\t-Mean Training Loss: 1.241\n",
            "\t\t-Mean Validation Loss: 1.232\n",
            "Epoch 43 completed!\n",
            "\t\t-Mean Training Loss: 1.237\n",
            "\t\t-Mean Validation Loss: 1.234\n",
            "Epoch 44 completed!\n",
            "\t\t-Mean Training Loss: 1.235\n",
            "\t\t-Mean Validation Loss: 1.238\n",
            "Epoch 45 completed!\n",
            "\t\t-Mean Training Loss: 1.235\n",
            "\t\t-Mean Validation Loss: 1.234\n",
            "Epoch 46 completed!\n",
            "\t\t-Mean Training Loss: 1.232\n",
            "\t\t-Mean Validation Loss: 1.231\n",
            "Epoch 47 completed!\n",
            "\t\t-Mean Training Loss: 1.230\n",
            "\t\t-Mean Validation Loss: 1.235\n",
            "Epoch 48 completed!\n",
            "\t\t-Mean Training Loss: 1.225\n",
            "\t\t-Mean Validation Loss: 1.233\n",
            "Epoch 49 completed!\n",
            "\t\t-Mean Training Loss: 1.221\n",
            "\t\t-Mean Validation Loss: 1.230\n",
            "Epoch 50 completed!\n",
            "\t\t-Mean Training Loss: 1.220\n",
            "\t\t-Mean Validation Loss: 1.232\n",
            "Epoch 51 completed!\n",
            "\t\t-Mean Training Loss: 1.214\n",
            "\t\t-Mean Validation Loss: 1.237\n",
            "Epoch 52 completed!\n",
            "\t\t-Mean Training Loss: 1.210\n",
            "\t\t-Mean Validation Loss: 1.233\n",
            "Epoch 53 completed!\n",
            "\t\t-Mean Training Loss: 1.211\n",
            "\t\t-Mean Validation Loss: 1.228\n",
            "Epoch 54 completed!\n",
            "\t\t-Mean Training Loss: 1.208\n",
            "\t\t-Mean Validation Loss: 1.241\n",
            "Epoch 55 completed!\n",
            "\t\t-Mean Training Loss: 1.205\n",
            "\t\t-Mean Validation Loss: 1.229\n",
            "Epoch 56 completed!\n",
            "\t\t-Mean Training Loss: 1.199\n",
            "\t\t-Mean Validation Loss: 1.229\n",
            "Epoch 57 completed!\n",
            "\t\t-Mean Training Loss: 1.199\n",
            "\t\t-Mean Validation Loss: 1.230\n",
            "Epoch 58 completed!\n",
            "\t\t-Mean Training Loss: 1.195\n",
            "\t\t-Mean Validation Loss: 1.228\n",
            "Epoch 59 completed!\n",
            "\t\t-Mean Training Loss: 1.194\n",
            "\t\t-Mean Validation Loss: 1.229\n",
            "Epoch 60 completed!\n",
            "\t\t-Mean Training Loss: 1.193\n",
            "\t\t-Mean Validation Loss: 1.229\n",
            "Epoch 61 completed!\n",
            "\t\t-Mean Training Loss: 1.188\n",
            "\t\t-Mean Validation Loss: 1.228\n",
            "Epoch 62 completed!\n",
            "\t\t-Mean Training Loss: 1.185\n",
            "\t\t-Mean Validation Loss: 1.240\n",
            "Epoch 63 completed!\n",
            "\t\t-Mean Training Loss: 1.186\n",
            "\t\t-Mean Validation Loss: 1.229\n",
            "Training has Completed:\n",
            "\n",
            "=======================\n",
            "\tBest Validation Loss: 1.228\n",
            "\tBest Epoch: 58\n",
            "\tTotal Epochs: 63\n",
            "=======================\n"
          ]
        },
        {
          "ename": "TypeError",
          "evalue": "cannot unpack non-iterable NoneType object",
          "output_type": "error",
          "traceback": [
            "\u001b[0;31m---------------------------------------------------------------------------\u001b[0m",
            "\u001b[0;31mTypeError\u001b[0m                                 Traceback (most recent call last)",
            "\u001b[0;32m<ipython-input-40-cfda9fee31d2>\u001b[0m in \u001b[0;36m<cell line: 1>\u001b[0;34m()\u001b[0m\n\u001b[0;32m----> 1\u001b[0;31m train_loss, val_loss = trainer(model=model,\n\u001b[0m\u001b[1;32m      2\u001b[0m                                \u001b[0mtraining\u001b[0m\u001b[0;34m=\u001b[0m\u001b[0mtrain\u001b[0m\u001b[0;34m,\u001b[0m\u001b[0;34m\u001b[0m\u001b[0;34m\u001b[0m\u001b[0m\n\u001b[1;32m      3\u001b[0m                                \u001b[0mvalidation\u001b[0m\u001b[0;34m=\u001b[0m\u001b[0mtest\u001b[0m\u001b[0;34m,\u001b[0m\u001b[0;34m\u001b[0m\u001b[0;34m\u001b[0m\u001b[0m\n\u001b[1;32m      4\u001b[0m                                le=le)\n",
            "\u001b[0;31mTypeError\u001b[0m: cannot unpack non-iterable NoneType object"
          ]
        }
      ],
      "source": [
        "trainer(model=model,\n",
        "                               training=train,\n",
        "                               validation=test,\n",
        "                               le=le)\n",
        "model.save(drive_path + 'VTCNN2_100Epochs.pt')"
      ]
    },
    {
      "cell_type": "code",
      "execution_count": null,
      "metadata": {
        "id": "Ylvi2Gq4powe",
        "colab": {
          "base_uri": "https://localhost:8080/"
        },
        "outputId": "2131b528-3a7a-42d0-d902-9d7ea9cb81f5"
      },
      "outputs": [
        {
          "output_type": "stream",
          "name": "stderr",
          "text": [
            "/content/rfml/rfml/nn/model/base.py:218: FutureWarning: You are using `torch.load` with `weights_only=False` (the current default value), which uses the default pickle module implicitly. It is possible to construct malicious pickle data which will execute arbitrary code during unpickling (See https://github.com/pytorch/pytorch/blob/main/SECURITY.md#untrusted-models for more details). In a future release, the default value for `weights_only` will be flipped to `True`. This limits the functions that could be executed during unpickling. Arbitrary objects will no longer be allowed to be loaded via this mode unless they are explicitly allowlisted by the user via `torch.serialization.add_safe_globals`. We recommend you start setting `weights_only=True` for any use case where you don't have full control of the loaded file. Please open an issue on GitHub for any issues related to this experimental feature.\n",
            "  checkpoint = torch.load(path, map_location=map_location)\n"
          ]
        }
      ],
      "source": [
        "model.load(drive_path + 'VTCNN2_100Epochs.pt')"
      ]
    },
    {
      "cell_type": "code",
      "execution_count": null,
      "metadata": {
        "colab": {
          "base_uri": "https://localhost:8080/"
        },
        "id": "nSbp-lL8H5cD",
        "outputId": "363a9a50-1356-4160-9036-39936a028780"
      },
      "outputs": [
        {
          "output_type": "stream",
          "name": "stdout",
          "text": [
            "Overall Testing Accuracy: 54.05%\n"
          ]
        }
      ],
      "source": [
        "acc = compute_accuracy(model=model, data=test, le=le)\n",
        "print(\"Overall Testing Accuracy: {:.2f}%\".format(acc * 100))"
      ]
    },
    {
      "cell_type": "code",
      "execution_count": null,
      "metadata": {
        "colab": {
          "base_uri": "https://localhost:8080/",
          "height": 851
        },
        "id": "u_bq3t-ak3RA",
        "outputId": "9d69b650-3b83-4aee-d923-f5e5f75492ae"
      },
      "outputs": [
        {
          "output_type": "display_data",
          "data": {
            "text/plain": [
              "<Figure size 1000x500 with 1 Axes>"
            ],
            "image/png": "[encoded data removed]"
          },
          "metadata": {}
        },
        {
          "output_type": "stream",
          "name": "stdout",
          "text": [
            "\n",
            "SNR: -20, Overall Accuracy: 9.91%\n",
            "SNR: -18, Overall Accuracy: 9.60%\n",
            "SNR: -16, Overall Accuracy: 9.35%\n",
            "SNR: -14, Overall Accuracy: 10.80%\n",
            "SNR: -12, Overall Accuracy: 13.78%\n",
            "SNR: -10, Overall Accuracy: 22.45%\n",
            "SNR: -8, Overall Accuracy: 34.98%\n",
            "SNR: -6, Overall Accuracy: 48.05%\n",
            "SNR: -4, Overall Accuracy: 57.98%\n",
            "SNR: -2, Overall Accuracy: 67.89%\n",
            "SNR: 0, Overall Accuracy: 76.29%\n",
            "SNR: 2, Overall Accuracy: 78.73%\n",
            "SNR: 4, Overall Accuracy: 79.55%\n",
            "SNR: 6, Overall Accuracy: 80.44%\n",
            "SNR: 8, Overall Accuracy: 80.25%\n",
            "SNR: 10, Overall Accuracy: 80.60%\n",
            "SNR: 12, Overall Accuracy: 80.18%\n",
            "SNR: 14, Overall Accuracy: 80.25%\n",
            "SNR: 16, Overall Accuracy: 79.73%\n",
            "SNR: 18, Overall Accuracy: 80.20%\n"
          ]
        }
      ],
      "source": [
        "acc_vs_snr, snr = compute_accuracy_on_cross_sections(model=model,\n",
        "                                                     data=test,\n",
        "                                                     le=le,\n",
        "                                                     column=\"SNR\")\n",
        "\n",
        "title = \"Accuracy vs SNR of {model_name} on {dataset_name}\".format(model_name=\"VT_CNN2\", dataset_name=\"RML2016.10A\")\n",
        "fig = plot_acc_vs_snr(acc_vs_snr=acc_vs_snr, snr=snr, title=title)\n",
        "if fig_dir is not None:\n",
        "    file_path = \"{fig_dir}/acc_vs_snr.pdf\"\n",
        "    print(\"Saving Figure -> {file_path}\".format(file_path=file_path))\n",
        "    fig.savefig(file_path, format=\"pdf\", transparent=True)\n",
        "plt.show()\n",
        "\n",
        "print()\n",
        "for idx in np.argsort(snr):\n",
        "    print(\"SNR: {}, Overall Accuracy: {:.2f}%\".format(snr[idx], acc_vs_snr[idx] * 100))"
      ]
    },
    {
      "cell_type": "code",
      "execution_count": null,
      "metadata": {
        "colab": {
          "base_uri": "https://localhost:8080/",
          "height": 529
        },
        "id": "PJ158x1xqaR8",
        "outputId": "1a207423-0084-4948-e096-666b50f92221"
      },
      "outputs": [
        {
          "output_type": "display_data",
          "data": {
            "text/plain": [
              "<Figure size 1000x500 with 2 Axes>"
            ],
            "image/png": "[encoded data removed]"
          },
          "metadata": {}
        }
      ],
      "source": [
        "cmn = compute_confusion(model=model, data=test, le=le)\n",
        "\n",
        "title = \"Confusion Matrix of {model_name} on {dataset_name}\".format(model_name=\"VT_CNN2\", dataset_name=\"RML2016.10A\")\n",
        "fig = plot_confusion(cm=cmn, labels=le.labels, title=title)\n",
        "if fig_dir is not None:\n",
        "    file_path = \"{fig_dir}/confusion_matrix.pdf\"\n",
        "    print(\"Saving Figure -> {file_path}\".format(file_path=file_path))\n",
        "    fig.savefig(file_path, format=\"pdf\", transparent=True)\n",
        "plt.show()"
      ]
    },
    {
      "cell_type": "markdown",
      "metadata": {
        "id": "MC0PwQtdYPB4"
      },
      "source": [
        "# Attacks"
      ]
    },
    {
      "cell_type": "code",
      "execution_count": null,
      "metadata": {
        "id": "73acMbxJYPB5",
        "colab": {
          "base_uri": "https://localhost:8080/"
        },
        "outputId": "51c9ecf3-9e60-4fbd-975c-5cd306e7ec21"
      },
      "outputs": [
        {
          "output_type": "stream",
          "name": "stdout",
          "text": [
            "Requirement already satisfied: torchattacks in /usr/local/lib/python3.10/dist-packages (3.5.1)\n",
            "Requirement already satisfied: torch>=1.7.1 in /usr/local/lib/python3.10/dist-packages (from torchattacks) (2.4.0+cu121)\n",
            "Requirement already satisfied: torchvision>=0.8.2 in /usr/local/lib/python3.10/dist-packages (from torchattacks) (0.19.0+cu121)\n",
            "Requirement already satisfied: scipy>=0.14.0 in /usr/local/lib/python3.10/dist-packages (from torchattacks) (1.13.1)\n",
            "Requirement already satisfied: tqdm>=4.56.1 in /usr/local/lib/python3.10/dist-packages (from torchattacks) (4.66.5)\n",
            "Requirement already satisfied: requests~=2.25.1 in /usr/local/lib/python3.10/dist-packages (from torchattacks) (2.25.1)\n",
            "Requirement already satisfied: numpy>=1.19.4 in /usr/local/lib/python3.10/dist-packages (from torchattacks) (1.26.4)\n",
            "Requirement already satisfied: chardet<5,>=3.0.2 in /usr/local/lib/python3.10/dist-packages (from requests~=2.25.1->torchattacks) (4.0.0)\n",
            "Requirement already satisfied: idna<3,>=2.5 in /usr/local/lib/python3.10/dist-packages (from requests~=2.25.1->torchattacks) (2.10)\n",
            "Requirement already satisfied: urllib3<1.27,>=1.21.1 in /usr/local/lib/python3.10/dist-packages (from requests~=2.25.1->torchattacks) (1.26.20)\n",
            "Requirement already satisfied: certifi>=2017.4.17 in /usr/local/lib/python3.10/dist-packages (from requests~=2.25.1->torchattacks) (2024.8.30)\n",
            "Requirement already satisfied: filelock in /usr/local/lib/python3.10/dist-packages (from torch>=1.7.1->torchattacks) (3.15.4)\n",
            "Requirement already satisfied: typing-extensions>=4.8.0 in /usr/local/lib/python3.10/dist-packages (from torch>=1.7.1->torchattacks) (4.12.2)\n",
            "Requirement already satisfied: sympy in /usr/local/lib/python3.10/dist-packages (from torch>=1.7.1->torchattacks) (1.13.2)\n",
            "Requirement already satisfied: networkx in /usr/local/lib/python3.10/dist-packages (from torch>=1.7.1->torchattacks) (3.3)\n",
            "Requirement already satisfied: jinja2 in /usr/local/lib/python3.10/dist-packages (from torch>=1.7.1->torchattacks) (3.1.4)\n",
            "Requirement already satisfied: fsspec in /usr/local/lib/python3.10/dist-packages (from torch>=1.7.1->torchattacks) (2024.6.1)\n",
            "Requirement already satisfied: pillow!=8.3.*,>=5.3.0 in /usr/local/lib/python3.10/dist-packages (from torchvision>=0.8.2->torchattacks) (9.4.0)\n",
            "Requirement already satisfied: MarkupSafe>=2.0 in /usr/local/lib/python3.10/dist-packages (from jinja2->torch>=1.7.1->torchattacks) (2.1.5)\n",
            "Requirement already satisfied: mpmath<1.4,>=1.1.0 in /usr/local/lib/python3.10/dist-packages (from sympy->torch>=1.7.1->torchattacks) (1.3.0)\n"
          ]
        }
      ],
      "source": [
        "!pip install torchattacks"
      ]
    },
    {
      "cell_type": "code",
      "execution_count": null,
      "metadata": {
        "id": "p27J74scYPB5"
      },
      "outputs": [],
      "source": [
        "import torchattacks"
      ]
    },
    {
      "cell_type": "code",
      "execution_count": null,
      "metadata": {
        "id": "W69tD9DZYPB5"
      },
      "outputs": [],
      "source": [
        "pgd_atk = torchattacks.PGD(model, eps=8/255, alpha=2/225, steps=10, random_start=True)\n",
        "fgsm_atk = fgsm_atk = torchattacks.FGSM(model, eps=8/255)\n",
        "deepfool_atk = torchattacks.DeepFool(model, steps=50, overshoot=0.02)"
      ]
    },
    {
      "cell_type": "code",
      "execution_count": null,
      "metadata": {
        "id": "dCiVq8FZYPB5"
      },
      "outputs": [],
      "source": [
        "def compute_accuracy_after_atks(\n",
        "    model: Model,\n",
        "    data: Dataset,\n",
        "    le: Encoder,\n",
        "    atks: List[torchattacks.attack.Attack],\n",
        "    batch_size: int = 512,\n",
        "    mask: DataFrame.mask = None\n",
        "):\n",
        "    dl = DataLoader(\n",
        "        data.as_torch(le=le, mask=mask), shuffle=True, batch_size=batch_size\n",
        "    )\n",
        "\n",
        "    total = 0\n",
        "    corrects = {atk.__class__.__name__: 0 for atk in atks}\n",
        "    corrects[model.__class__.__name__] = 0\n",
        "\n",
        "    for batch, data in enumerate(dl):\n",
        "        inputs, labels = data\n",
        "\n",
        "        predictions = model.predict(inputs)\n",
        "        corrects[model.__class__.__name__] += (predictions == labels).sum().item()\n",
        "        total += len(labels)\n",
        "\n",
        "        for atk in atks:\n",
        "            adv_inputs = atk(inputs, labels)\n",
        "            adv_predictions = model.predict(adv_inputs)\n",
        "            corrects[atk.__class__.__name__] += (adv_predictions == labels).sum().item()\n",
        "\n",
        "        print(f'Batch: {batch}, Total: {total}, Corrects: {corrects}')\n",
        "\n",
        "    accuracies = {k: float(corrects[k]) / total for k in corrects}\n",
        "\n",
        "    return accuracies"
      ]
    },
    {
      "cell_type": "code",
      "execution_count": null,
      "metadata": {
        "id": "D_pLoFTwYPB5",
        "outputId": "d2e5d249-d9eb-41e7-c01d-48f014d5b175",
        "colab": {
          "base_uri": "https://localhost:8080/"
        }
      },
      "outputs": [
        {
          "output_type": "stream",
          "name": "stderr",
          "text": [
            "/content/rfml/rfml/data/dataset.py:237: UserWarning: Boolean Series key will be reindexed to match DataFrame index.\n",
            "  df = df[mask]\n"
          ]
        },
        {
          "output_type": "stream",
          "name": "stdout",
          "text": [
            "Batch: 0, Total: 512, Corrects: {'PGD': 2, 'FGSM': 41, 'DeepFool': 5, 'VT_CNN2': 413}\n",
            "Batch: 1, Total: 1024, Corrects: {'PGD': 2, 'FGSM': 85, 'DeepFool': 11, 'VT_CNN2': 818}\n",
            "Batch: 2, Total: 1536, Corrects: {'PGD': 2, 'FGSM': 129, 'DeepFool': 14, 'VT_CNN2': 1220}\n",
            "Batch: 3, Total: 2048, Corrects: {'PGD': 2, 'FGSM': 178, 'DeepFool': 21, 'VT_CNN2': 1626}\n",
            "Batch: 4, Total: 2560, Corrects: {'PGD': 2, 'FGSM': 219, 'DeepFool': 24, 'VT_CNN2': 2024}\n",
            "Batch: 5, Total: 3072, Corrects: {'PGD': 3, 'FGSM': 275, 'DeepFool': 32, 'VT_CNN2': 2444}\n",
            "Batch: 6, Total: 3584, Corrects: {'PGD': 3, 'FGSM': 312, 'DeepFool': 34, 'VT_CNN2': 2852}\n",
            "Batch: 7, Total: 4096, Corrects: {'PGD': 4, 'FGSM': 336, 'DeepFool': 42, 'VT_CNN2': 3277}\n",
            "Batch: 8, Total: 4608, Corrects: {'PGD': 4, 'FGSM': 380, 'DeepFool': 45, 'VT_CNN2': 3679}\n",
            "Batch: 9, Total: 5120, Corrects: {'PGD': 4, 'FGSM': 421, 'DeepFool': 49, 'VT_CNN2': 4101}\n",
            "Batch: 10, Total: 5500, Corrects: {'PGD': 4, 'FGSM': 441, 'DeepFool': 53, 'VT_CNN2': 4411}\n"
          ]
        }
      ],
      "source": [
        "atks = [pgd_atk, fgsm_atk, deepfool_atk]\n",
        "mask = (dataset.df[\"SNR\"] == 18)\n",
        "accuracies = compute_accuracy_after_atks(model, test, le, atks, mask=mask)"
      ]
    },
    {
      "cell_type": "code",
      "execution_count": null,
      "metadata": {
        "id": "w-h_WKTeYPB5",
        "outputId": "a06ffb08-c122-4b32-fa57-97fcfb0f4978",
        "colab": {
          "base_uri": "https://localhost:8080/"
        }
      },
      "outputs": [
        {
          "output_type": "stream",
          "name": "stdout",
          "text": [
            "PGD: 0.07272727272727272%\n",
            "FGSM: 8.01818181818182%\n",
            "DeepFool: 0.9636363636363635%\n",
            "VT_CNN2: 80.2%\n"
          ]
        }
      ],
      "source": [
        "for k in accuracies:\n",
        "    print(f'{k}: {accuracies[k] * 100}%')"
      ]
    },
    {
      "cell_type": "markdown",
      "metadata": {
        "id": "h_cKHcY3dsV9"
      },
      "source": [
        "# Denoising Diffusion Probabilistic Model"
      ]
    },
    {
      "cell_type": "code",
      "execution_count": null,
      "metadata": {
        "colab": {
          "base_uri": "https://localhost:8080/"
        },
        "id": "XIFvoS9Odsrr",
        "outputId": "c3e998c5-114a-4745-93ba-b1fb104de9c1"
      },
      "outputs": [
        {
          "output_type": "stream",
          "name": "stdout",
          "text": [
            "Requirement already satisfied: denoising_diffusion_pytorch in /usr/local/lib/python3.10/dist-packages (2.0.17)\n",
            "Requirement already satisfied: accelerate in /usr/local/lib/python3.10/dist-packages (from denoising_diffusion_pytorch) (0.33.0)\n",
            "Requirement already satisfied: einops in /usr/local/lib/python3.10/dist-packages (from denoising_diffusion_pytorch) (0.8.0)\n",
            "Requirement already satisfied: ema-pytorch>=0.4.2 in /usr/local/lib/python3.10/dist-packages (from denoising_diffusion_pytorch) (0.6.2)\n",
            "Requirement already satisfied: numpy in /usr/local/lib/python3.10/dist-packages (from denoising_diffusion_pytorch) (1.26.4)\n",
            "Requirement already satisfied: pillow in /usr/local/lib/python3.10/dist-packages (from denoising_diffusion_pytorch) (9.4.0)\n",
            "Requirement already satisfied: pytorch-fid in /usr/local/lib/python3.10/dist-packages (from denoising_diffusion_pytorch) (0.3.0)\n",
            "Requirement already satisfied: scipy in /usr/local/lib/python3.10/dist-packages (from denoising_diffusion_pytorch) (1.13.1)\n",
            "Requirement already satisfied: torch in /usr/local/lib/python3.10/dist-packages (from denoising_diffusion_pytorch) (2.4.0+cu121)\n",
            "Requirement already satisfied: torchvision in /usr/local/lib/python3.10/dist-packages (from denoising_diffusion_pytorch) (0.19.0+cu121)\n",
            "Requirement already satisfied: tqdm in /usr/local/lib/python3.10/dist-packages (from denoising_diffusion_pytorch) (4.66.5)\n",
            "Requirement already satisfied: filelock in /usr/local/lib/python3.10/dist-packages (from torch->denoising_diffusion_pytorch) (3.15.4)\n",
            "Requirement already satisfied: typing-extensions>=4.8.0 in /usr/local/lib/python3.10/dist-packages (from torch->denoising_diffusion_pytorch) (4.12.2)\n",
            "Requirement already satisfied: sympy in /usr/local/lib/python3.10/dist-packages (from torch->denoising_diffusion_pytorch) (1.13.2)\n",
            "Requirement already satisfied: networkx in /usr/local/lib/python3.10/dist-packages (from torch->denoising_diffusion_pytorch) (3.3)\n",
            "Requirement already satisfied: jinja2 in /usr/local/lib/python3.10/dist-packages (from torch->denoising_diffusion_pytorch) (3.1.4)\n",
            "Requirement already satisfied: fsspec in /usr/local/lib/python3.10/dist-packages (from torch->denoising_diffusion_pytorch) (2024.6.1)\n",
            "Requirement already satisfied: packaging>=20.0 in /usr/local/lib/python3.10/dist-packages (from accelerate->denoising_diffusion_pytorch) (24.1)\n",
            "Requirement already satisfied: psutil in /usr/local/lib/python3.10/dist-packages (from accelerate->denoising_diffusion_pytorch) (5.9.5)\n",
            "Requirement already satisfied: pyyaml in /usr/local/lib/python3.10/dist-packages (from accelerate->denoising_diffusion_pytorch) (6.0.2)\n",
            "Requirement already satisfied: huggingface-hub>=0.21.0 in /usr/local/lib/python3.10/dist-packages (from accelerate->denoising_diffusion_pytorch) (0.24.6)\n",
            "Requirement already satisfied: safetensors>=0.3.1 in /usr/local/lib/python3.10/dist-packages (from accelerate->denoising_diffusion_pytorch) (0.4.4)\n",
            "Requirement already satisfied: requests in /usr/local/lib/python3.10/dist-packages (from huggingface-hub>=0.21.0->accelerate->denoising_diffusion_pytorch) (2.25.1)\n",
            "Requirement already satisfied: MarkupSafe>=2.0 in /usr/local/lib/python3.10/dist-packages (from jinja2->torch->denoising_diffusion_pytorch) (2.1.5)\n",
            "Requirement already satisfied: mpmath<1.4,>=1.1.0 in /usr/local/lib/python3.10/dist-packages (from sympy->torch->denoising_diffusion_pytorch) (1.3.0)\n",
            "Requirement already satisfied: chardet<5,>=3.0.2 in /usr/local/lib/python3.10/dist-packages (from requests->huggingface-hub>=0.21.0->accelerate->denoising_diffusion_pytorch) (4.0.0)\n",
            "Requirement already satisfied: idna<3,>=2.5 in /usr/local/lib/python3.10/dist-packages (from requests->huggingface-hub>=0.21.0->accelerate->denoising_diffusion_pytorch) (2.10)\n",
            "Requirement already satisfied: urllib3<1.27,>=1.21.1 in /usr/local/lib/python3.10/dist-packages (from requests->huggingface-hub>=0.21.0->accelerate->denoising_diffusion_pytorch) (1.26.20)\n",
            "Requirement already satisfied: certifi>=2017.4.17 in /usr/local/lib/python3.10/dist-packages (from requests->huggingface-hub>=0.21.0->accelerate->denoising_diffusion_pytorch) (2024.8.30)\n"
          ]
        }
      ],
      "source": [
        "!pip install denoising_diffusion_pytorch"
      ]
    },
    {
      "cell_type": "code",
      "execution_count": null,
      "metadata": {
        "id": "in2QwMWZAyYk",
        "colab": {
          "base_uri": "https://localhost:8080/"
        },
        "outputId": "8c084226-0cf0-4405-afb8-f0dc395ed44b"
      },
      "outputs": [
        {
          "output_type": "execute_result",
          "data": {
            "text/plain": [
              "tensor([[[0.3789, 0.5432, 0.5017,  ..., 0.2486, 0.1377, 0.3433],\n",
              "         [0.3784, 0.3188, 0.5450,  ..., 0.3039, 0.3302, 0.2253]],\n",
              "\n",
              "        [[0.1794, 0.5073, 0.5141,  ..., 0.2498, 0.1707, 0.3828],\n",
              "         [0.4896, 0.4867, 0.7261,  ..., 0.2906, 0.3758, 0.2668]],\n",
              "\n",
              "        [[0.5907, 0.6951, 0.5441,  ..., 0.2343, 0.1626, 0.4149],\n",
              "         [0.8694, 0.6201, 0.3898,  ..., 0.3107, 0.2749, 0.1450]],\n",
              "\n",
              "        ...,\n",
              "\n",
              "        [[0.2477, 0.2410, 0.3077,  ..., 0.2305, 0.1946, 0.3275],\n",
              "         [0.4579, 0.4638, 0.5092,  ..., 0.3454, 0.2671, 0.2292]],\n",
              "\n",
              "        [[0.6635, 0.6811, 0.7162,  ..., 0.3001, 0.2779, 0.4096],\n",
              "         [0.4129, 0.5055, 0.6193,  ..., 0.3055, 0.2283, 0.1918]],\n",
              "\n",
              "        [[0.4047, 0.4221, 0.4832,  ..., 0.1312, 0.1059, 0.2620],\n",
              "         [0.6971, 0.7426, 0.7372,  ..., 0.3678, 0.2740, 0.2206]]])"
            ]
          },
          "metadata": {},
          "execution_count": 99
        }
      ],
      "source": [
        "mask = (train.df[\"SNR\"] == 18)\n",
        "tensor_train = train.as_torch(le, mask)\n",
        "training_seq = torch.squeeze(tensor_train.tensors[0])\n",
        "\n",
        "# Normalize the features from 0 to 1\n",
        "min_val = training_seq.min(dim=0, keepdim=True).values\n",
        "max_val = training_seq.max(dim=0, keepdim=True).values\n",
        "training_seq = (training_seq - min_val) / (max_val - min_val)\n",
        "training_seq"
      ]
    },
    {
      "cell_type": "code",
      "source": [
        "from denoising_diffusion_pytorch import Unet1D, GaussianDiffusion1D, Trainer1D, Dataset1D\n",
        "\n",
        "diffusion_model = Unet1D(\n",
        "    dim = 64,\n",
        "    dim_mults = (1, 2, 4, 8),\n",
        "    channels = 2\n",
        ")\n",
        "\n",
        "diffusion = GaussianDiffusion1D(\n",
        "    diffusion_model,\n",
        "    seq_length = 128,\n",
        "    timesteps = 1000,\n",
        "    objective = 'pred_v',\n",
        "    auto_normalize = False\n",
        ")\n",
        "\n",
        "if torch.cuda.is_available():\n",
        "  diffusion_model.cuda()\n",
        "  diffusion.cuda()\n",
        "\n",
        "diffusion_dataset = Dataset1D(training_seq)\n",
        "\n",
        "trainer = Trainer1D(\n",
        "    diffusion,\n",
        "    dataset = diffusion_dataset,\n",
        "    train_batch_size = 128,\n",
        "    train_lr = 8e-5,\n",
        "    train_num_steps = 350000,         # total training steps\n",
        "    gradient_accumulate_every = 1,    # gradient accumulation steps\n",
        "    ema_decay = 0.995,                # exponential moving average decay\n",
        "    amp = False,                      # turn on mixed precision\n",
        "    save_and_sample_every = 35000,\n",
        "    results_folder=drive_path + 'diffusion_results_WithoutAutoNormalize',\n",
        ")"
      ],
      "metadata": {
        "colab": {
          "base_uri": "https://localhost:8080/"
        },
        "id": "xHU0dA-YLwVA",
        "outputId": "742e88ad-6374-4b77-8147-7ef2944d2790"
      },
      "execution_count": null,
      "outputs": [
        {
          "output_type": "stream",
          "name": "stderr",
          "text": [
            "/usr/local/lib/python3.10/dist-packages/accelerate/accelerator.py:451: FutureWarning: Passing the following arguments to `Accelerator` is deprecated and will be removed in version 1.0 of Accelerate: dict_keys(['split_batches']). Please pass an `accelerate.DataLoaderConfiguration` instead: \n",
            "dataloader_config = DataLoaderConfiguration(split_batches=True)\n",
            "  warnings.warn(\n"
          ]
        }
      ]
    },
    {
      "cell_type": "code",
      "execution_count": null,
      "metadata": {
        "colab": {
          "base_uri": "https://localhost:8080/",
          "height": 49,
          "referenced_widgets": [
            "20a9da22938a4a39b188cb128c1124dc",
            "d65fca067756488583a8452d5ae87e93",
            "432e3dc9b6b448ed8db61014bdf3facc",
            "ede2a0d4fa314a26a6fb15470c4b04d8",
            "7dbe109f51564f98b1e2faa68ff1a226",
            "5918f87cf3f14fd8b4e18b3dc5ed8c54",
            "d9baac683ed24e9daa89851a8527f087",
            "c4e5d5eef59045feadde94400dc92885",
            "d7ccb7a3232c4b1ba72473e585cc1a01",
            "5e0026ebe4ba43f49782cd0492df4ef7",
            "257b70cb79344d9aba0821343aa738fb"
          ]
        },
        "id": "ORXx3bdog1gf",
        "outputId": "f446454c-7ff8-4f4b-b092-a023cf74bc58"
      },
      "outputs": [
        {
          "output_type": "display_data",
          "data": {
            "text/plain": [
              "  0%|          | 0/350000 [00:00<?, ?it/s]"
            ],
            "application/vnd.jupyter.widget-view+json": {
              "version_major": 2,
              "version_minor": 0,
              "model_id": "20a9da22938a4a39b188cb128c1124dc"
            }
          },
          "metadata": {}
        }
      ],
      "source": [
        "trainer.train()"
      ]
    },
    {
      "cell_type": "code",
      "source": [
        "trainer.load(10)"
      ],
      "metadata": {
        "colab": {
          "base_uri": "https://localhost:8080/"
        },
        "id": "DBcBqQ2LLzQ6",
        "outputId": "157ce40b-cdef-4abc-dce9-c0764ba34a18"
      },
      "execution_count": null,
      "outputs": [
        {
          "output_type": "stream",
          "name": "stderr",
          "text": [
            "/usr/local/lib/python3.10/dist-packages/denoising_diffusion_pytorch/denoising_diffusion_pytorch_1d.py:818: FutureWarning: You are using `torch.load` with `weights_only=False` (the current default value), which uses the default pickle module implicitly. It is possible to construct malicious pickle data which will execute arbitrary code during unpickling (See https://github.com/pytorch/pytorch/blob/main/SECURITY.md#untrusted-models for more details). In a future release, the default value for `weights_only` will be flipped to `True`. This limits the functions that could be executed during unpickling. Arbitrary objects will no longer be allowed to be loaded via this mode unless they are explicitly allowlisted by the user via `torch.serialization.add_safe_globals`. We recommend you start setting `weights_only=True` for any use case where you don't have full control of the loaded file. Please open an issue on GitHub for any issues related to this experimental feature.\n",
            "  data = torch.load(str(self.results_folder / f'model-{milestone}.pt'), map_location=device)\n"
          ]
        },
        {
          "output_type": "stream",
          "name": "stdout",
          "text": [
            "loading from version 2.0.16\n"
          ]
        }
      ]
    },
    {
      "cell_type": "code",
      "source": [
        "sample_idx = 7500\n",
        "sample_input = tensor_dataset[sample_idx][0].unsqueeze(0).to('cuda')\n",
        "sample_label = tensor_dataset[sample_idx][1].unsqueeze(0).to('cuda')\n",
        "\n",
        "pgd_atk = torchattacks.PGD(model, eps=8/255, alpha=2/225, steps=10, random_start=True)\n",
        "sample_adv = pgd_atk(sample_input, sample_label)\n",
        "\n",
        "print(f'True label: {sample_label[0]}, Prediction: {model.predict(sample_input)[0]}, Adv Prediction: {model.predict(sample_adv)[0]}')"
      ],
      "metadata": {
        "colab": {
          "base_uri": "https://localhost:8080/"
        },
        "id": "-nthLsqLNoQi",
        "outputId": "727a7ff1-c99b-4f90-c0dc-41e703e7bb89"
      },
      "execution_count": null,
      "outputs": [
        {
          "output_type": "stream",
          "name": "stdout",
          "text": [
            "True label: 7, Prediction: 7, Adv Prediction: 6\n"
          ]
        }
      ]
    },
    {
      "cell_type": "code",
      "source": [
        "# normalize input\n",
        "sample_adv_norm = (sample_adv - min_val.to('cuda')) / (max_val.to('cuda') - min_val.to('cuda'))\n",
        "sample_adv_norm"
      ],
      "metadata": {
        "colab": {
          "base_uri": "https://localhost:8080/"
        },
        "id": "gE1KB3xcYgMg",
        "outputId": "a9b8eae4-6f87-4c17-8ce5-d07c636c713a"
      },
      "execution_count": null,
      "outputs": [
        {
          "output_type": "execute_result",
          "data": {
            "text/plain": [
              "tensor([[[[1.1049, 1.1016, 1.1073, 1.1247, 1.1455, 1.2467, 1.0588, 1.0898,\n",
              "           0.9346, 1.0311, 0.9207, 0.9475, 1.0535, 1.0847, 1.2600, 1.1260,\n",
              "           0.9395, 0.9069, 1.0926, 1.0000, 0.8278, 1.0277, 0.9022, 0.9676,\n",
              "           0.9637, 0.7525, 0.7311, 0.6439, 1.0783, 1.1381, 1.3567, 1.1890,\n",
              "           1.3482, 1.3899, 1.1159, 1.5328, 0.9744, 0.8555, 0.4957, 0.5377,\n",
              "           0.5279, 0.6695, 0.7186, 0.6994, 0.7346, 1.0145, 1.1220, 1.1506,\n",
              "           1.1401, 0.7733, 0.9149, 0.4222, 0.5571, 0.4767, 0.5172, 0.7303,\n",
              "           0.4977, 0.4481, 0.5699, 1.2501, 1.3123, 1.2407, 1.2686, 1.3702,\n",
              "           1.3979, 1.3120, 1.3690, 1.4238, 1.3720, 1.2493, 1.3559, 1.1191,\n",
              "           1.3002, 1.1982, 1.1693, 1.3007, 1.1908, 1.2217, 1.1442, 1.1605,\n",
              "           1.3033, 1.3917, 1.3155, 1.2945, 1.2616, 1.1646, 1.1023, 1.0674,\n",
              "           1.0725, 1.0914, 1.0725, 1.0914, 1.0080, 0.7340, 0.9094, 0.7162,\n",
              "           0.7989, 0.7425, 0.7493, 0.7534, 1.3481, 1.3012, 0.5050, 1.1302,\n",
              "           1.1093, 1.1146, 1.0815, 1.0743, 1.0754, 0.8626, 0.9085, 0.7026,\n",
              "           0.7003, 0.7906, 0.8999, 0.8919, 0.8479, 0.5647, 0.4648, 0.3994,\n",
              "           0.3604, 0.4775, 0.5183, 0.6259, 0.6367, 0.5449, 0.3430, 0.3637],\n",
              "          [1.3591, 1.4104, 1.4094, 1.4675, 1.2813, 1.3241, 1.1806, 1.0401,\n",
              "           1.0239, 0.9916, 0.9158, 0.9533, 0.9655, 1.1835, 1.1290, 1.2320,\n",
              "           1.2699, 1.3352, 1.3815, 1.3143, 1.3408, 1.3607, 1.1682, 1.1349,\n",
              "           1.1734, 0.6655, 0.8773, 0.4630, 1.1326, 1.1437, 1.1093, 1.2548,\n",
              "           1.2036, 1.2145, 1.2630, 1.2377, 1.2099, 0.9702, 0.9377, 0.7468,\n",
              "           0.7608, 0.6964, 0.9214, 0.8823, 1.1228, 1.0178, 1.0787, 1.1271,\n",
              "           1.1501, 1.1886, 1.1706, 0.9359, 0.7258, 0.7503, 1.0254, 0.6992,\n",
              "           0.7206, 0.8685, 0.6502, 1.1399, 1.2363, 1.2583, 1.2228, 1.3998,\n",
              "           1.3740, 1.3757, 1.4703, 1.3673, 1.4974, 1.5351, 1.4744, 1.5494,\n",
              "           1.5036, 1.4557, 1.4824, 1.3631, 1.4081, 1.3129, 1.2522, 1.2507,\n",
              "           1.2179, 1.3262, 1.2109, 1.3316, 1.2910, 1.3313, 1.3128, 1.3158,\n",
              "           1.3121, 1.2646, 1.2357, 1.2276, 0.8159, 0.8607, 0.7134, 0.5127,\n",
              "           0.5114, 0.5917, 0.4724, 0.5108, 0.9257, 0.9432, 0.9795, 1.0356,\n",
              "           1.0993, 1.1520, 1.2015, 1.2053, 1.0150, 0.9519, 0.7213, 0.6830,\n",
              "           0.8262, 0.7022, 0.5841, 0.6794, 0.6205, 0.5178, 0.5432, 0.5280,\n",
              "           0.5114, 0.6918, 0.4781, 0.4786, 0.4928, 0.3861, 0.2939, 0.2733]]]],\n",
              "       device='cuda:0')"
            ]
          },
          "metadata": {},
          "execution_count": 71
        }
      ]
    },
    {
      "cell_type": "code",
      "source": [
        "noise_steps = 300\n",
        "noise_steps = torch.tensor([noise_steps], device='cuda').long()\n",
        "x_q_sampled = diffusion.q_sample(x_start=sample_adv_norm, t=noise_steps)\n",
        "x_q_sampled"
      ],
      "metadata": {
        "colab": {
          "base_uri": "https://localhost:8080/"
        },
        "id": "Q6y-A3Hj7gMb",
        "outputId": "08679873-90fb-41f4-9b2a-76664c44238d"
      },
      "execution_count": null,
      "outputs": [
        {
          "output_type": "execute_result",
          "data": {
            "text/plain": [
              "tensor([[[[ 0.9329,  1.6557,  0.7711,  0.5309,  1.6231,  0.8473,  1.6908,\n",
              "            2.0698, -0.2575,  0.3146,  1.2782,  0.5803,  1.1554,  1.2987,\n",
              "            1.4369,  1.6393,  0.0470,  1.0855,  0.8753,  1.0230,  0.3332,\n",
              "            0.7079,  1.1332,  1.2339, -0.1887,  0.9927,  1.1899,  0.2252,\n",
              "            1.4571,  0.6850,  0.3905,  1.1434,  0.2129,  1.9441,  0.5360,\n",
              "            1.3173,  0.1092,  0.7479,  0.1453,  0.8856,  0.3039,  0.5432,\n",
              "            0.9420, -0.0900,  0.7201,  0.5481,  1.2148,  0.9447,  0.8628,\n",
              "            0.2031,  0.5181,  0.3753,  0.7969,  0.7887,  0.3483,  1.2272,\n",
              "            1.1199,  0.5030,  1.1141,  1.4995,  1.0705,  0.9844,  1.1746,\n",
              "            0.7302,  0.2096,  0.6884,  0.5670,  0.7732,  0.8217,  1.9340,\n",
              "            1.4131,  1.3102,  1.2591,  1.5571,  1.7302,  0.4543,  0.6269,\n",
              "            1.2811,  1.4855,  1.2796,  1.2448,  1.9986,  0.8267,  0.7647,\n",
              "            1.7023,  0.8269,  1.0942,  1.8240,  1.5220,  0.9201,  0.5401,\n",
              "            1.0922,  0.9418,  0.7345,  0.6504,  1.4875,  1.8116,  0.9617,\n",
              "            0.7983,  0.1212,  1.2144,  0.7345,  1.0338,  1.5373,  0.1960,\n",
              "            0.8055,  0.5005,  0.9802,  1.1261,  1.0436,  0.9690,  0.4579,\n",
              "            0.7694,  0.9428,  0.6758,  1.4588,  1.2652,  0.6608,  0.2342,\n",
              "            0.0328,  0.2337, -0.5069,  1.1473,  0.0451,  0.1647,  0.0518,\n",
              "            0.0888,  0.5954],\n",
              "          [ 1.0990,  1.3730,  1.1694,  1.7483,  1.8461,  0.4860,  0.7971,\n",
              "            1.4915,  1.0134,  0.8137,  0.2829,  0.1479,  1.7500,  0.9572,\n",
              "            1.1385,  0.9277,  1.1357,  0.6716,  1.3556,  0.4089,  0.9698,\n",
              "            1.4135,  0.6642,  0.3010,  1.8067, -0.4777,  1.1140,  0.3336,\n",
              "            1.0156,  0.7865,  0.2768,  0.6374,  0.8210,  0.6805,  1.6481,\n",
              "            0.8396,  1.0428,  0.6502,  0.7725,  1.7367,  0.2961,  0.5219,\n",
              "            1.6017, -0.1563,  1.3223,  0.9185,  1.0477,  1.6740,  1.1789,\n",
              "            1.0889,  1.0449,  0.6353,  0.9410,  0.8500,  1.1592,  0.9942,\n",
              "            0.7644,  0.1768,  0.3055,  0.3986,  0.8992,  1.2984,  1.6771,\n",
              "            1.5985,  1.1656,  1.9447,  0.7698,  0.6078,  1.6056,  1.2435,\n",
              "            1.3299,  1.4897,  1.5293,  1.8536,  1.6851,  1.3205,  1.9175,\n",
              "            2.1289,  1.1410,  0.6186,  1.0375,  1.2168,  0.8052,  1.3653,\n",
              "            1.3218,  0.7127,  1.4840,  0.6490,  1.0502,  0.9317,  0.5564,\n",
              "            1.5342,  1.2371,  1.1812,  0.5221,  0.1239,  0.0282,  0.4382,\n",
              "            0.3876,  0.1277,  1.2086,  0.8671,  0.7984,  1.1638,  0.2234,\n",
              "            1.7088,  1.4264,  1.4898,  1.1570,  1.4737,  0.5247,  0.8812,\n",
              "            0.2160,  0.4906,  1.1030,  0.5294,  1.1015,  0.0816,  1.1638,\n",
              "            0.9199,  0.8288,  0.8771,  0.2810,  0.4210,  0.8056,  1.0986,\n",
              "            0.4192,  0.1692]]]], device='cuda:0')"
            ]
          },
          "metadata": {},
          "execution_count": 72
        }
      ]
    },
    {
      "cell_type": "code",
      "source": [
        "from tqdm import tqdm\n",
        "\n",
        "@torch.no_grad()\n",
        "def p_sample_loop(input, current_iter, total_iter):\n",
        "    x_start = None\n",
        "\n",
        "    for t in tqdm(reversed(range(current_iter, total_iter)), desc = 'sampling loop time step', total = total_iter - current_iter):\n",
        "        self_cond = None\n",
        "        input, x_start = diffusion.p_sample(input, t, self_cond)\n",
        "\n",
        "    return input\n",
        "\n",
        "res = p_sample_loop(x_q_sampled.squeeze(0), 700, 1000)\n",
        "res"
      ],
      "metadata": {
        "colab": {
          "base_uri": "https://localhost:8080/"
        },
        "id": "ce2uDWxe75u1",
        "outputId": "0e8660a4-d2cf-4e13-b511-898e394fc3ae"
      },
      "execution_count": null,
      "outputs": [
        {
          "output_type": "stream",
          "name": "stderr",
          "text": [
            "sampling loop time step: 100%|██████████| 300/300 [00:06<00:00, 45.63it/s]\n"
          ]
        },
        {
          "output_type": "execute_result",
          "data": {
            "text/plain": [
              "tensor([[[-0.3725,  1.4953, -1.4416,  0.6961,  0.4957, -0.4653,  1.0383,\n",
              "           0.5568, -1.4124,  1.0645, -0.3656,  0.4306, -1.2763,  0.8108,\n",
              "           0.0883,  0.8307,  0.3151, -0.7207,  0.2845, -0.9289, -0.6393,\n",
              "           1.2402, -0.9869, -0.6213, -0.2632, -0.3434, -0.3514, -0.8354,\n",
              "          -0.7349, -0.4042,  0.3576,  0.4345,  0.2210, -1.0716,  0.6966,\n",
              "          -0.3260, -0.9573, -0.9118, -0.0995, -1.1219,  0.6125, -0.0634,\n",
              "          -0.9677,  0.4256,  0.1388, -1.5661, -1.2339, -1.5512, -1.3314,\n",
              "          -0.4007,  0.6275, -0.6923,  0.4611, -1.2489, -0.6338,  0.4639,\n",
              "           0.2127, -1.5361,  0.1396,  0.1092,  0.2322,  1.3291,  1.3504,\n",
              "          -1.4512,  1.7481, -2.2255,  1.1435, -0.0691, -1.3374,  0.4426,\n",
              "          -1.0425, -1.1755,  0.7975,  0.6670,  0.4661, -1.3983, -0.1887,\n",
              "           1.1852,  1.1095,  1.0326, -0.2357,  1.3894, -0.0294, -1.8201,\n",
              "           1.9619,  0.2985,  0.9192,  0.2620,  1.0631, -0.3933,  0.6940,\n",
              "          -0.9204, -0.2705,  0.7706,  0.5444,  0.5054,  1.2309,  1.3391,\n",
              "          -0.1369, -0.6068,  1.0288, -0.5562, -0.1920,  1.4551,  0.3450,\n",
              "           1.3077, -0.5463, -0.3029,  0.0377, -1.1721,  0.4455,  0.3082,\n",
              "           0.3099, -0.9492, -0.9521, -0.1859, -0.5721,  0.8391, -0.9662,\n",
              "           0.9049,  0.7608,  0.7457,  0.9793, -1.5385,  0.7229, -0.3813,\n",
              "          -0.8320,  0.2110],\n",
              "         [-0.1494, -0.9382,  2.2975,  1.5272,  0.7053, -0.2210,  0.9147,\n",
              "          -1.4983,  0.0984, -0.4074,  0.1425, -0.4723, -0.3725, -0.6748,\n",
              "           0.8403, -1.1730, -1.4798, -0.3989, -0.8566, -0.5994,  1.7431,\n",
              "           0.7058,  1.2478, -0.8745, -1.4685, -0.7895,  1.0568,  0.0715,\n",
              "           0.9261, -0.8353, -0.0100, -0.3081, -0.1577,  1.3854, -2.3218,\n",
              "           1.1819, -0.1777,  1.0118, -1.0017, -0.9040,  1.4386,  0.3372,\n",
              "          -0.4972,  0.7293,  0.9502,  0.4157, -0.1450,  1.2038, -1.5460,\n",
              "           0.7810, -0.4034,  0.8314,  0.7428,  0.9954, -1.1129, -1.3398,\n",
              "          -0.0862, -0.1095, -0.3111,  1.4022, -0.2748, -1.3453,  0.7264,\n",
              "           2.7095, -0.0593, -0.5911, -0.0476,  1.1940, -0.4337,  1.7345,\n",
              "           0.2321, -0.0881, -0.3826,  0.4528,  0.6375, -0.2210,  0.7708,\n",
              "          -0.2122,  0.9190,  0.0475, -1.8427,  1.8181,  2.2158,  1.1514,\n",
              "          -0.0647,  0.3857, -0.4522, -0.1374,  0.3485, -0.5356, -0.5975,\n",
              "          -1.1059, -1.0009, -0.7497,  0.7653,  0.8388,  0.9082, -1.0956,\n",
              "           0.2799,  1.4033,  0.2525, -0.3094, -0.8761, -0.5622,  0.4287,\n",
              "          -0.6032, -1.6917, -1.3155, -1.3327,  0.3818, -0.7733, -0.1037,\n",
              "          -0.9519, -0.0621, -0.7481,  0.8419,  1.2498, -1.8505,  1.2675,\n",
              "          -0.0305, -0.4718, -0.3257, -0.7242,  0.9835, -0.5436,  0.5005,\n",
              "          -0.0941,  0.2714]]], device='cuda:0')"
            ]
          },
          "metadata": {},
          "execution_count": 73
        }
      ]
    },
    {
      "cell_type": "code",
      "source": [
        "# denormalize\n",
        "res = res * (max_val.to('cuda') - min_val.to('cuda')) + min_val.to('cuda')\n",
        "res"
      ],
      "metadata": {
        "colab": {
          "base_uri": "https://localhost:8080/"
        },
        "id": "hhr2Y9DLejR3",
        "outputId": "5ce0d7cb-85d4-48f7-b811-2c013d944a71"
      },
      "execution_count": null,
      "outputs": [
        {
          "output_type": "execute_result",
          "data": {
            "text/plain": [
              "tensor([[[-4.0537e-02,  4.0084e-02, -8.4488e-02,  8.1105e-03, -1.1554e-03,\n",
              "          -3.9308e-02,  2.0203e-02,  1.2271e-03, -8.4783e-02,  2.3893e-02,\n",
              "          -3.6804e-02, -3.5458e-03, -7.4874e-02,  1.0855e-02, -1.4692e-02,\n",
              "           1.4833e-02, -4.6960e-03, -5.7262e-02, -1.3622e-02, -6.5871e-02,\n",
              "          -4.6112e-02,  2.8095e-02, -5.8135e-02, -5.5091e-02, -3.1188e-02,\n",
              "          -3.5353e-02, -3.1983e-02, -6.8865e-02, -6.2626e-02, -4.1023e-02,\n",
              "          -9.8593e-03, -1.8263e-03, -1.4895e-02, -7.5039e-02,  8.9302e-03,\n",
              "          -3.9414e-02, -6.1980e-02, -6.5277e-02, -2.4396e-02, -6.6770e-02,\n",
              "           3.4373e-03, -2.6816e-02, -6.8126e-02, -3.0065e-03, -1.4946e-02,\n",
              "          -8.4969e-02, -6.7504e-02, -7.7988e-02, -6.9942e-02, -4.3114e-02,\n",
              "           6.1001e-03, -5.1200e-02, -4.0548e-03, -6.6505e-02, -4.5017e-02,\n",
              "          -1.3894e-03, -1.0863e-02, -9.6359e-02, -1.8741e-02, -1.9261e-02,\n",
              "          -1.4640e-02,  3.7125e-02,  3.7781e-02, -8.6521e-02,  5.0920e-02,\n",
              "          -1.3607e-01,  2.6895e-02, -2.2704e-02, -7.1147e-02, -1.9658e-03,\n",
              "          -5.9321e-02, -8.3810e-02,  1.1863e-02,  6.1655e-03, -2.6632e-03,\n",
              "          -7.2858e-02, -3.1822e-02,  2.8747e-02,  2.9307e-02,  2.5700e-02,\n",
              "          -3.2824e-02,  3.2953e-02, -2.2121e-02, -9.7666e-02,  6.3068e-02,\n",
              "          -6.4415e-03,  2.3017e-02, -1.1239e-02,  2.9606e-02, -4.7129e-02,\n",
              "           9.5013e-03, -7.3156e-02, -4.0030e-02,  1.0627e-02, -2.1583e-04,\n",
              "          -1.2901e-03,  3.0296e-02,  3.4884e-02, -3.1831e-02, -5.4268e-02,\n",
              "           2.2104e-02, -4.8251e-02, -3.1351e-02,  4.7248e-02, -7.7730e-03,\n",
              "           3.6074e-02, -4.9369e-02, -3.2089e-02, -2.0478e-02, -7.7643e-02,\n",
              "          -1.2480e-02, -2.8437e-02, -3.3581e-02, -1.5386e-01, -1.5807e-01,\n",
              "          -8.2456e-02, -1.0846e-01,  3.5974e-02, -1.5676e-01,  7.5271e-02,\n",
              "           6.3610e-02,  6.2137e-02,  8.6626e-02, -3.0642e-01,  2.0988e-02,\n",
              "          -1.2215e-01, -1.3576e-01, -1.6603e-02],\n",
              "         [-2.7894e-02, -6.1023e-02,  7.9975e-02,  4.0474e-02,  1.0617e-02,\n",
              "          -3.1687e-02,  1.8681e-02, -9.2349e-02, -1.7074e-02, -3.7859e-02,\n",
              "          -1.8056e-02, -4.5184e-02, -3.7989e-02, -4.2832e-02,  1.5942e-02,\n",
              "          -7.2093e-02, -9.0610e-02, -4.0245e-02, -5.8071e-02, -4.9085e-02,\n",
              "           5.3497e-02,  7.2326e-03,  3.5695e-02, -5.9943e-02, -7.8028e-02,\n",
              "          -5.6906e-02,  2.1545e-02, -1.6092e-02,  1.6326e-02, -5.3946e-02,\n",
              "          -2.4255e-02, -3.1332e-02, -2.7214e-02,  3.9718e-02, -1.1934e-01,\n",
              "           3.0897e-02, -3.4341e-02,  1.9428e-02, -6.7998e-02, -5.7449e-02,\n",
              "           3.6301e-02, -7.2057e-03, -4.1794e-02,  1.1427e-02,  1.7518e-02,\n",
              "          -3.4126e-03, -2.6529e-02,  2.8495e-02, -8.2347e-02,  1.0611e-02,\n",
              "          -4.0091e-02,  1.3502e-02,  9.7205e-03,  2.0367e-02, -6.4391e-02,\n",
              "          -8.3300e-02, -2.1877e-02, -2.8081e-02, -3.5386e-02,  3.9691e-02,\n",
              "          -3.2920e-02, -7.9009e-02,  1.2550e-02,  9.3505e-02, -2.1972e-02,\n",
              "          -5.7049e-02, -2.2379e-02,  3.3867e-02, -4.0643e-02,  5.1562e-02,\n",
              "          -1.5923e-02, -2.5383e-02, -3.4082e-02, -1.1599e-03,  5.7708e-03,\n",
              "          -3.3224e-02,  1.1242e-02, -2.7476e-02,  2.0395e-02, -2.1772e-02,\n",
              "          -1.1621e-01,  5.5871e-02,  8.2570e-02,  2.6378e-02, -2.6231e-02,\n",
              "          -3.6986e-03, -4.7522e-02, -3.0538e-02, -4.9365e-03, -5.3522e-02,\n",
              "          -5.5998e-02, -7.8006e-02, -7.7126e-02, -6.5778e-02,  1.3636e-02,\n",
              "           1.8715e-02,  2.3385e-02, -9.9430e-02, -1.2393e-02,  6.0039e-02,\n",
              "          -2.1593e-02, -6.2085e-02, -9.8340e-02, -7.4626e-02, -9.3077e-03,\n",
              "          -9.5093e-02, -1.8898e-01, -1.6250e-01, -1.6865e-01, -1.1957e-02,\n",
              "          -8.5482e-02, -4.9677e-02, -1.3700e-01, -6.5189e-02, -1.6421e-01,\n",
              "           4.7018e-02,  1.0626e-01, -3.0925e-01,  8.2672e-02, -5.2989e-02,\n",
              "          -1.0418e-01, -9.2817e-02, -1.3657e-01,  7.3186e-02, -1.4056e-01,\n",
              "           1.8716e-02, -7.3769e-02, -4.2963e-04]]], device='cuda:0')"
            ]
          },
          "metadata": {},
          "execution_count": 74
        }
      ]
    },
    {
      "cell_type": "code",
      "source": [
        "print(f'True label: {sample_label[0]}')\n",
        "print(f'Prediction: {model.predict(sample_input)[0]}')\n",
        "print(f'Adv Prediction: {model.predict(sample_adv)[0]}')\n",
        "print(f'Defended Prediction: {model.predict(res.unsqueeze(0))[0]}')"
      ],
      "metadata": {
        "colab": {
          "base_uri": "https://localhost:8080/"
        },
        "id": "-ZLi6siIfElZ",
        "outputId": "7de14b9d-516b-4229-83df-a44719cc9cd8"
      },
      "execution_count": null,
      "outputs": [
        {
          "output_type": "stream",
          "name": "stdout",
          "text": [
            "True label: 7\n",
            "Prediction: 7\n",
            "Adv Prediction: 6\n",
            "Defended Prediction: 6\n"
          ]
        }
      ]
    },
    {
      "cell_type": "code",
      "execution_count": null,
      "metadata": {
        "id": "TLmaxpcmCdw3"
      },
      "outputs": [],
      "source": []
    }
  ],
  "metadata": {
    "accelerator": "GPU",
    "colab": {
      "gpuType": "T4",
      "machine_shape": "hm",
      "provenance": []
    },
    "kernelspec": {
      "display_name": "Python 3",
      "name": "python3"
    },
    "language_info": {
      "codemirror_mode": {
        "name": "ipython",
        "version": 3
      },
      "file_extension": ".py",
      "mimetype": "text/x-python",
      "name": "python",
      "nbconvert_exporter": "python",
      "pygments_lexer": "ipython3",
      "version": "3.10.4"
    },
    "widgets": {
      "application/vnd.jupyter.widget-state+json": {
        "20a9da22938a4a39b188cb128c1124dc": {
          "model_module": "@jupyter-widgets/controls",
          "model_name": "HBoxModel",
          "model_module_version": "1.5.0",
          "state": {
            "_dom_classes": [],
            "_model_module": "@jupyter-widgets/controls",
            "_model_module_version": "1.5.0",
            "_model_name": "HBoxModel",
            "_view_count": null,
            "_view_module": "@jupyter-widgets/controls",
            "_view_module_version": "1.5.0",
            "_view_name": "HBoxView",
            "box_style": "",
            "children": [
              "IPY_MODEL_d65fca067756488583a8452d5ae87e93",
              "IPY_MODEL_432e3dc9b6b448ed8db61014bdf3facc",
              "IPY_MODEL_ede2a0d4fa314a26a6fb15470c4b04d8"
            ],
            "layout": "IPY_MODEL_7dbe109f51564f98b1e2faa68ff1a226"
          }
        },
        "d65fca067756488583a8452d5ae87e93": {
          "model_module": "@jupyter-widgets/controls",
          "model_name": "HTMLModel",
          "model_module_version": "1.5.0",
          "state": {
            "_dom_classes": [],
            "_model_module": "@jupyter-widgets/controls",
            "_model_module_version": "1.5.0",
            "_model_name": "HTMLModel",
            "_view_count": null,
            "_view_module": "@jupyter-widgets/controls",
            "_view_module_version": "1.5.0",
            "_view_name": "HTMLView",
            "description": "",
            "description_tooltip": null,
            "layout": "IPY_MODEL_5918f87cf3f14fd8b4e18b3dc5ed8c54",
            "placeholder": "​",
            "style": "IPY_MODEL_d9baac683ed24e9daa89851a8527f087",
            "value": "loss: 0.3067:   0%"
          }
        },
        "432e3dc9b6b448ed8db61014bdf3facc": {
          "model_module": "@jupyter-widgets/controls",
          "model_name": "FloatProgressModel",
          "model_module_version": "1.5.0",
          "state": {
            "_dom_classes": [],
            "_model_module": "@jupyter-widgets/controls",
            "_model_module_version": "1.5.0",
            "_model_name": "FloatProgressModel",
            "_view_count": null,
            "_view_module": "@jupyter-widgets/controls",
            "_view_module_version": "1.5.0",
            "_view_name": "ProgressView",
            "bar_style": "",
            "description": "",
            "description_tooltip": null,
            "layout": "IPY_MODEL_c4e5d5eef59045feadde94400dc92885",
            "max": 350000,
            "min": 0,
            "orientation": "horizontal",
            "style": "IPY_MODEL_d7ccb7a3232c4b1ba72473e585cc1a01",
            "value": 9
          }
        },
        "ede2a0d4fa314a26a6fb15470c4b04d8": {
          "model_module": "@jupyter-widgets/controls",
          "model_name": "HTMLModel",
          "model_module_version": "1.5.0",
          "state": {
            "_dom_classes": [],
            "_model_module": "@jupyter-widgets/controls",
            "_model_module_version": "1.5.0",
            "_model_name": "HTMLModel",
            "_view_count": null,
            "_view_module": "@jupyter-widgets/controls",
            "_view_module_version": "1.5.0",
            "_view_name": "HTMLView",
            "description": "",
            "description_tooltip": null,
            "layout": "IPY_MODEL_5e0026ebe4ba43f49782cd0492df4ef7",
            "placeholder": "​",
            "style": "IPY_MODEL_257b70cb79344d9aba0821343aa738fb",
            "value": " 9/350000 [00:03&lt;18:49:37,  5.16it/s]"
          }
        },
        "7dbe109f51564f98b1e2faa68ff1a226": {
          "model_module": "@jupyter-widgets/base",
          "model_name": "LayoutModel",
          "model_module_version": "1.2.0",
          "state": {
            "_model_module": "@jupyter-widgets/base",
            "_model_module_version": "1.2.0",
            "_model_name": "LayoutModel",
            "_view_count": null,
            "_view_module": "@jupyter-widgets/base",
            "_view_module_version": "1.2.0",
            "_view_name": "LayoutView",
            "align_content": null,
            "align_items": null,
            "align_self": null,
            "border": null,
            "bottom": null,
            "display": null,
            "flex": null,
            "flex_flow": null,
            "grid_area": null,
            "grid_auto_columns": null,
            "grid_auto_flow": null,
            "grid_auto_rows": null,
            "grid_column": null,
            "grid_gap": null,
            "grid_row": null,
            "grid_template_areas": null,
            "grid_template_columns": null,
            "grid_template_rows": null,
            "height": null,
            "justify_content": null,
            "justify_items": null,
            "left": null,
            "margin": null,
            "max_height": null,
            "max_width": null,
            "min_height": null,
            "min_width": null,
            "object_fit": null,
            "object_position": null,
            "order": null,
            "overflow": null,
            "overflow_x": null,
            "overflow_y": null,
            "padding": null,
            "right": null,
            "top": null,
            "visibility": null,
            "width": null
          }
        },
        "5918f87cf3f14fd8b4e18b3dc5ed8c54": {
          "model_module": "@jupyter-widgets/base",
          "model_name": "LayoutModel",
          "model_module_version": "1.2.0",
          "state": {
            "_model_module": "@jupyter-widgets/base",
            "_model_module_version": "1.2.0",
            "_model_name": "LayoutModel",
            "_view_count": null,
            "_view_module": "@jupyter-widgets/base",
            "_view_module_version": "1.2.0",
            "_view_name": "LayoutView",
            "align_content": null,
            "align_items": null,
            "align_self": null,
            "border": null,
            "bottom": null,
            "display": null,
            "flex": null,
            "flex_flow": null,
            "grid_area": null,
            "grid_auto_columns": null,
            "grid_auto_flow": null,
            "grid_auto_rows": null,
            "grid_column": null,
            "grid_gap": null,
            "grid_row": null,
            "grid_template_areas": null,
            "grid_template_columns": null,
            "grid_template_rows": null,
            "height": null,
            "justify_content": null,
            "justify_items": null,
            "left": null,
            "margin": null,
            "max_height": null,
            "max_width": null,
            "min_height": null,
            "min_width": null,
            "object_fit": null,
            "object_position": null,
            "order": null,
            "overflow": null,
            "overflow_x": null,
            "overflow_y": null,
            "padding": null,
            "right": null,
            "top": null,
            "visibility": null,
            "width": null
          }
        },
        "d9baac683ed24e9daa89851a8527f087": {
          "model_module": "@jupyter-widgets/controls",
          "model_name": "DescriptionStyleModel",
          "model_module_version": "1.5.0",
          "state": {
            "_model_module": "@jupyter-widgets/controls",
            "_model_module_version": "1.5.0",
            "_model_name": "DescriptionStyleModel",
            "_view_count": null,
            "_view_module": "@jupyter-widgets/base",
            "_view_module_version": "1.2.0",
            "_view_name": "StyleView",
            "description_width": ""
          }
        },
        "c4e5d5eef59045feadde94400dc92885": {
          "model_module": "@jupyter-widgets/base",
          "model_name": "LayoutModel",
          "model_module_version": "1.2.0",
          "state": {
            "_model_module": "@jupyter-widgets/base",
            "_model_module_version": "1.2.0",
            "_model_name": "LayoutModel",
            "_view_count": null,
            "_view_module": "@jupyter-widgets/base",
            "_view_module_version": "1.2.0",
            "_view_name": "LayoutView",
            "align_content": null,
            "align_items": null,
            "align_self": null,
            "border": null,
            "bottom": null,
            "display": null,
            "flex": null,
            "flex_flow": null,
            "grid_area": null,
            "grid_auto_columns": null,
            "grid_auto_flow": null,
            "grid_auto_rows": null,
            "grid_column": null,
            "grid_gap": null,
            "grid_row": null,
            "grid_template_areas": null,
            "grid_template_columns": null,
            "grid_template_rows": null,
            "height": null,
            "justify_content": null,
            "justify_items": null,
            "left": null,
            "margin": null,
            "max_height": null,
            "max_width": null,
            "min_height": null,
            "min_width": null,
            "object_fit": null,
            "object_position": null,
            "order": null,
            "overflow": null,
            "overflow_x": null,
            "overflow_y": null,
            "padding": null,
            "right": null,
            "top": null,
            "visibility": null,
            "width": null
          }
        },
        "d7ccb7a3232c4b1ba72473e585cc1a01": {
          "model_module": "@jupyter-widgets/controls",
          "model_name": "ProgressStyleModel",
          "model_module_version": "1.5.0",
          "state": {
            "_model_module": "@jupyter-widgets/controls",
            "_model_module_version": "1.5.0",
            "_model_name": "ProgressStyleModel",
            "_view_count": null,
            "_view_module": "@jupyter-widgets/base",
            "_view_module_version": "1.2.0",
            "_view_name": "StyleView",
            "bar_color": null,
            "description_width": ""
          }
        },
        "5e0026ebe4ba43f49782cd0492df4ef7": {
          "model_module": "@jupyter-widgets/base",
          "model_name": "LayoutModel",
          "model_module_version": "1.2.0",
          "state": {
            "_model_module": "@jupyter-widgets/base",
            "_model_module_version": "1.2.0",
            "_model_name": "LayoutModel",
            "_view_count": null,
            "_view_module": "@jupyter-widgets/base",
            "_view_module_version": "1.2.0",
            "_view_name": "LayoutView",
            "align_content": null,
            "align_items": null,
            "align_self": null,
            "border": null,
            "bottom": null,
            "display": null,
            "flex": null,
            "flex_flow": null,
            "grid_area": null,
            "grid_auto_columns": null,
            "grid_auto_flow": null,
            "grid_auto_rows": null,
            "grid_column": null,
            "grid_gap": null,
            "grid_row": null,
            "grid_template_areas": null,
            "grid_template_columns": null,
            "grid_template_rows": null,
            "height": null,
            "justify_content": null,
            "justify_items": null,
            "left": null,
            "margin": null,
            "max_height": null,
            "max_width": null,
            "min_height": null,
            "min_width": null,
            "object_fit": null,
            "object_position": null,
            "order": null,
            "overflow": null,
            "overflow_x": null,
            "overflow_y": null,
            "padding": null,
            "right": null,
            "top": null,
            "visibility": null,
            "width": null
          }
        },
        "257b70cb79344d9aba0821343aa738fb": {
          "model_module": "@jupyter-widgets/controls",
          "model_name": "DescriptionStyleModel",
          "model_module_version": "1.5.0",
          "state": {
            "_model_module": "@jupyter-widgets/controls",
            "_model_module_version": "1.5.0",
            "_model_name": "DescriptionStyleModel",
            "_view_count": null,
            "_view_module": "@jupyter-widgets/base",
            "_view_module_version": "1.2.0",
            "_view_name": "StyleView",
            "description_width": ""
          }
        }
      }
    }
  },
  "nbformat": 4,
  "nbformat_minor": 0
}