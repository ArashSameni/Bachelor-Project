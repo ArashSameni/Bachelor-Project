{
 "cells": [
  {
   "cell_type": "code",
   "execution_count": 1,
   "metadata": {
    "colab": {
     "base_uri": "https://localhost:8080/"
    },
    "id": "4qi-9IHuFk0v",
    "outputId": "3f8204d2-d914-4ec6-a242-83fa020483b2"
   },
   "outputs": [
    {
     "name": "stdout",
     "output_type": "stream",
     "text": [
      "Drive already mounted at /content/drive; to attempt to forcibly remount, call drive.mount(\"/content/drive\", force_remount=True).\n"
     ]
    }
   ],
   "source": [
    "from google.colab import drive\n",
    "drive.mount('/content/drive')"
   ]
  },
  {
   "cell_type": "code",
   "execution_count": 59,
   "metadata": {
    "colab": {
     "base_uri": "https://localhost:8080/"
    },
    "id": "o_qiTl-xBKR0",
    "outputId": "57144eca-bfe8-4baf-eced-ae1347ded6c5"
   },
   "outputs": [
    {
     "name": "stdout",
     "output_type": "stream",
     "text": [
      "fatal: destination path 'rfml' already exists and is not an empty directory.\n"
     ]
    }
   ],
   "source": [
    "!git clone https://github.com/ArashSameni/rfml"
   ]
  },
  {
   "cell_type": "code",
   "execution_count": 60,
   "metadata": {
    "colab": {
     "base_uri": "https://localhost:8080/"
    },
    "id": "wkqVBgjRBKR1",
    "outputId": "edd92496-0a77-4578-dcb5-3b9c21289bb2"
   },
   "outputs": [
    {
     "name": "stdout",
     "output_type": "stream",
     "text": [
      "Obtaining file:///content/rfml\n",
      "  Preparing metadata (setup.py) ... \u001b[?25l\u001b[?25hdone\n",
      "Requirement already satisfied: numpy>=0.7.0 in /usr/local/lib/python3.10/dist-packages (from rfml==1.0.0) (1.25.2)\n",
      "Requirement already satisfied: PyYAML>=3.11 in /usr/local/lib/python3.10/dist-packages (from rfml==1.0.0) (6.0.1)\n",
      "Requirement already satisfied: pandas>=0.24.1 in /usr/local/lib/python3.10/dist-packages (from rfml==1.0.0) (2.0.3)\n",
      "Requirement already satisfied: setGPU>=0.0.7 in /root/.local/lib/python3.10/site-packages (from rfml==1.0.0) (0.0.7)\n",
      "Requirement already satisfied: torch>=1.0.0 in /usr/local/lib/python3.10/dist-packages (from rfml==1.0.0) (2.3.0+cu121)\n",
      "Requirement already satisfied: python-dateutil>=2.8.2 in /usr/local/lib/python3.10/dist-packages (from pandas>=0.24.1->rfml==1.0.0) (2.8.2)\n",
      "Requirement already satisfied: pytz>=2020.1 in /usr/local/lib/python3.10/dist-packages (from pandas>=0.24.1->rfml==1.0.0) (2023.4)\n",
      "Requirement already satisfied: tzdata>=2022.1 in /usr/local/lib/python3.10/dist-packages (from pandas>=0.24.1->rfml==1.0.0) (2024.1)\n",
      "Requirement already satisfied: gpustat in /root/.local/lib/python3.10/site-packages (from setGPU>=0.0.7->rfml==1.0.0) (1.1.1)\n",
      "Requirement already satisfied: filelock in /usr/local/lib/python3.10/dist-packages (from torch>=1.0.0->rfml==1.0.0) (3.14.0)\n",
      "Requirement already satisfied: typing-extensions>=4.8.0 in /usr/local/lib/python3.10/dist-packages (from torch>=1.0.0->rfml==1.0.0) (4.12.1)\n",
      "Requirement already satisfied: sympy in /usr/local/lib/python3.10/dist-packages (from torch>=1.0.0->rfml==1.0.0) (1.12.1)\n",
      "Requirement already satisfied: networkx in /usr/local/lib/python3.10/dist-packages (from torch>=1.0.0->rfml==1.0.0) (3.3)\n",
      "Requirement already satisfied: jinja2 in /usr/local/lib/python3.10/dist-packages (from torch>=1.0.0->rfml==1.0.0) (3.1.4)\n",
      "Requirement already satisfied: fsspec in /usr/local/lib/python3.10/dist-packages (from torch>=1.0.0->rfml==1.0.0) (2023.6.0)\n",
      "Requirement already satisfied: nvidia-cuda-nvrtc-cu12==12.1.105 in /root/.local/lib/python3.10/site-packages (from torch>=1.0.0->rfml==1.0.0) (12.1.105)\n",
      "Requirement already satisfied: nvidia-cuda-runtime-cu12==12.1.105 in /root/.local/lib/python3.10/site-packages (from torch>=1.0.0->rfml==1.0.0) (12.1.105)\n",
      "Requirement already satisfied: nvidia-cuda-cupti-cu12==12.1.105 in /root/.local/lib/python3.10/site-packages (from torch>=1.0.0->rfml==1.0.0) (12.1.105)\n",
      "Requirement already satisfied: nvidia-cudnn-cu12==8.9.2.26 in /root/.local/lib/python3.10/site-packages (from torch>=1.0.0->rfml==1.0.0) (8.9.2.26)\n",
      "Requirement already satisfied: nvidia-cublas-cu12==12.1.3.1 in /root/.local/lib/python3.10/site-packages (from torch>=1.0.0->rfml==1.0.0) (12.1.3.1)\n",
      "Requirement already satisfied: nvidia-cufft-cu12==11.0.2.54 in /root/.local/lib/python3.10/site-packages (from torch>=1.0.0->rfml==1.0.0) (11.0.2.54)\n",
      "Requirement already satisfied: nvidia-curand-cu12==10.3.2.106 in /root/.local/lib/python3.10/site-packages (from torch>=1.0.0->rfml==1.0.0) (10.3.2.106)\n",
      "Requirement already satisfied: nvidia-cusolver-cu12==11.4.5.107 in /root/.local/lib/python3.10/site-packages (from torch>=1.0.0->rfml==1.0.0) (11.4.5.107)\n",
      "Requirement already satisfied: nvidia-cusparse-cu12==12.1.0.106 in /root/.local/lib/python3.10/site-packages (from torch>=1.0.0->rfml==1.0.0) (12.1.0.106)\n",
      "Requirement already satisfied: nvidia-nccl-cu12==2.20.5 in /root/.local/lib/python3.10/site-packages (from torch>=1.0.0->rfml==1.0.0) (2.20.5)\n",
      "Requirement already satisfied: nvidia-nvtx-cu12==12.1.105 in /root/.local/lib/python3.10/site-packages (from torch>=1.0.0->rfml==1.0.0) (12.1.105)\n",
      "Requirement already satisfied: triton==2.3.0 in /usr/local/lib/python3.10/dist-packages (from torch>=1.0.0->rfml==1.0.0) (2.3.0)\n",
      "Requirement already satisfied: nvidia-nvjitlink-cu12 in /root/.local/lib/python3.10/site-packages (from nvidia-cusolver-cu12==11.4.5.107->torch>=1.0.0->rfml==1.0.0) (12.5.40)\n",
      "Requirement already satisfied: six>=1.5 in /usr/local/lib/python3.10/dist-packages (from python-dateutil>=2.8.2->pandas>=0.24.1->rfml==1.0.0) (1.16.0)\n",
      "Requirement already satisfied: nvidia-ml-py>=11.450.129 in /root/.local/lib/python3.10/site-packages (from gpustat->setGPU>=0.0.7->rfml==1.0.0) (12.555.43)\n",
      "Requirement already satisfied: psutil>=5.6.0 in /usr/local/lib/python3.10/dist-packages (from gpustat->setGPU>=0.0.7->rfml==1.0.0) (5.9.5)\n",
      "Requirement already satisfied: blessed>=1.17.1 in /root/.local/lib/python3.10/site-packages (from gpustat->setGPU>=0.0.7->rfml==1.0.0) (1.20.0)\n",
      "Requirement already satisfied: MarkupSafe>=2.0 in /usr/local/lib/python3.10/dist-packages (from jinja2->torch>=1.0.0->rfml==1.0.0) (2.1.5)\n",
      "Requirement already satisfied: mpmath<1.4.0,>=1.1.0 in /usr/local/lib/python3.10/dist-packages (from sympy->torch>=1.0.0->rfml==1.0.0) (1.3.0)\n",
      "Requirement already satisfied: wcwidth>=0.1.4 in /usr/local/lib/python3.10/dist-packages (from blessed>=1.17.1->gpustat->setGPU>=0.0.7->rfml==1.0.0) (0.2.13)\n",
      "Installing collected packages: rfml\n",
      "  Attempting uninstall: rfml\n",
      "    Found existing installation: rfml 1.0.0\n",
      "    Uninstalling rfml-1.0.0:\n",
      "      Successfully uninstalled rfml-1.0.0\n",
      "  Running setup.py develop for rfml\n",
      "Successfully installed rfml\n"
     ]
    }
   ],
   "source": [
    "!pip install --user -e ./rfml"
   ]
  },
  {
   "cell_type": "code",
   "execution_count": 28,
   "metadata": {
    "id": "N3GcqR0vXjP0"
   },
   "outputs": [],
   "source": [
    "import torch\n",
    "import numpy as np\n",
    "import torch.nn as nn\n",
    "import matplotlib.pyplot as plt\n",
    "from torch.utils.data import DataLoader\n",
    "\n",
    "# Internal Includes\n",
    "from rfml.nn.model import Model\n",
    "from rfml.data import Dataset, Encoder\n",
    "from rfml.data.converters import load_RML201610A_dataset\n",
    "from rfml.nn.train import StandardTrainingStrategy, PrintingTrainingListener\n",
    "from rfml.nbutils import plot_acc_vs_snr, plot_confusion, plot_IQ\n",
    "from rfml.nn.eval import compute_accuracy, compute_accuracy_on_cross_sections, compute_confusion\n",
    "from pandas import DataFrame\n",
    "\n",
    "from typing import List\n",
    "from pprint import pprint"
   ]
  },
  {
   "cell_type": "code",
   "execution_count": 2,
   "metadata": {
    "id": "PdOxI41bGXvo"
   },
   "outputs": [],
   "source": [
    "np.random.seed(0)\n",
    "torch.manual_seed(0)\n",
    "torch.backends.cudnn.deterministic = True\n",
    "torch.backends.cudnn.benchmark = False"
   ]
  },
  {
   "cell_type": "code",
   "execution_count": 3,
   "metadata": {
    "id": "1tIv14UgBKR2"
   },
   "outputs": [],
   "source": [
    "fig_dir = None   # Set to a file path if you'd like to save the plots generated\n",
    "data_path = './RML2016.10a_dict.pkl' # Set to a file path if you've downloaded RML2016.10A locally"
   ]
  },
  {
   "cell_type": "code",
   "execution_count": 4,
   "metadata": {
    "colab": {
     "base_uri": "https://localhost:8080/"
    },
    "id": "28-c4_DyBKR2",
    "outputId": "a4c021fa-77eb-4752-cacf-9b230760ce85"
   },
   "outputs": [
    {
     "name": "stdout",
     "output_type": "stream",
     "text": [
      "Dataset size: 220000\n",
      "{'8PSK': 20000,\n",
      " 'AM-DSB': 20000,\n",
      " 'AM-SSB': 20000,\n",
      " 'BPSK': 20000,\n",
      " 'CPFSK': 20000,\n",
      " 'GFSK': 20000,\n",
      " 'PAM4': 20000,\n",
      " 'QAM16': 20000,\n",
      " 'QAM64': 20000,\n",
      " 'QPSK': 20000,\n",
      " 'WBFM': 20000}\n"
     ]
    }
   ],
   "source": [
    "dataset = load_RML201610A_dataset(path=data_path)\n",
    "print(f'Dataset size: {len(dataset)}')\n",
    "pprint(dataset.get_examples_per_class())"
   ]
  },
  {
   "cell_type": "code",
   "execution_count": 5,
   "metadata": {
    "colab": {
     "base_uri": "https://localhost:8080/"
    },
    "id": "fT7UTlXOBKR2",
    "outputId": "a26dba28-166c-47a9-dcf8-bcbcc37e5e4a"
   },
   "outputs": [
    {
     "name": "stdout",
     "output_type": "stream",
     "text": [
      "Modulations: {'CPFSK', 'QAM16', '8PSK', 'WBFM', 'AM-SSB', 'BPSK', 'PAM4', 'QAM64', 'GFSK', 'QPSK', 'AM-DSB'}\n",
      "SNRs: {0, 2, 4, 6, 8, 10, 12, 14, 16, 18, -20, -18, -16, -14, -12, -10, -8, -6, -4, -2}\n"
     ]
    }
   ],
   "source": [
    "print(f'Modulations: {dataset.metadata[\"Modulation\"]}')\n",
    "print(f'SNRs: {dataset.metadata[\"SNR\"]}')"
   ]
  },
  {
   "cell_type": "code",
   "execution_count": 6,
   "metadata": {
    "colab": {
     "base_uri": "https://localhost:8080/"
    },
    "id": "uSwkQIJXBKR2",
    "outputId": "c83dae88-72ea-4960-8e48-4a00d5915726"
   },
   "outputs": [
    {
     "name": "stdout",
     "output_type": "stream",
     "text": [
      "Training Examples\n",
      "=================\n",
      "{'8PSK': 10000,\n",
      " 'AM-DSB': 10000,\n",
      " 'AM-SSB': 10000,\n",
      " 'BPSK': 10000,\n",
      " 'CPFSK': 10000,\n",
      " 'GFSK': 10000,\n",
      " 'PAM4': 10000,\n",
      " 'QAM16': 10000,\n",
      " 'QAM64': 10000,\n",
      " 'QPSK': 10000,\n",
      " 'WBFM': 10000}\n",
      "=================\n",
      "\n",
      "Testing Examples\n",
      "=================\n",
      "{'8PSK': 10000,\n",
      " 'AM-DSB': 10000,\n",
      " 'AM-SSB': 10000,\n",
      " 'BPSK': 10000,\n",
      " 'CPFSK': 10000,\n",
      " 'GFSK': 10000,\n",
      " 'PAM4': 10000,\n",
      " 'QAM16': 10000,\n",
      " 'QAM64': 10000,\n",
      " 'QPSK': 10000,\n",
      " 'WBFM': 10000}\n",
      "=================\n"
     ]
    }
   ],
   "source": [
    "train, test = dataset.split(frac=0.5, on=[\"Modulation\", \"SNR\"])\n",
    "\n",
    "print(\"Training Examples\")\n",
    "print(\"=================\")\n",
    "pprint(train.get_examples_per_class())\n",
    "print(\"=================\")\n",
    "print()\n",
    "print(\"Testing Examples\")\n",
    "print(\"=================\")\n",
    "pprint(test.get_examples_per_class())\n",
    "print(\"=================\")"
   ]
  },
  {
   "cell_type": "code",
   "execution_count": 7,
   "metadata": {
    "colab": {
     "base_uri": "https://localhost:8080/"
    },
    "id": "ynod1MZPBKR2",
    "outputId": "84eda5e8-8667-4d56-c53b-8b9e284e2327"
   },
   "outputs": [
    {
     "name": "stdout",
     "output_type": "stream",
     "text": [
      "8PSK: 0\n",
      "AM-DSB: 1\n",
      "AM-SSB: 2\n",
      "BPSK: 3\n",
      "CPFSK: 4\n",
      "GFSK: 5\n",
      "PAM4: 6\n",
      "QAM16: 7\n",
      "QAM64: 8\n",
      "QPSK: 9\n",
      "WBFM: 10\n",
      "\n"
     ]
    }
   ],
   "source": [
    "le = Encoder([\n",
    "    '8PSK',\n",
    "    'AM-DSB',\n",
    "    'AM-SSB',\n",
    "    'BPSK',\n",
    "    'CPFSK',\n",
    "    'GFSK',\n",
    "    'PAM4',\n",
    "    'QAM16',\n",
    "    'QAM64',\n",
    "    'QPSK',\n",
    "    'WBFM'], label_name=\"Modulation\")\n",
    "print(le)"
   ]
  },
  {
   "cell_type": "code",
   "execution_count": 8,
   "metadata": {
    "colab": {
     "base_uri": "https://localhost:8080/",
     "height": 487
    },
    "id": "zydOeZCOBKR3",
    "outputId": "df32b087-c11d-4fdb-b5bf-6a7d16b7e45a"
   },
   "outputs": [
    {
     "data": {
      "image/png": "[encoded data removed]",
      "text/plain": [
       "<Figure size 720x360 with 1 Axes>"
      ]
     },
     "metadata": {
      "needs_background": "light"
     },
     "output_type": "display_data"
    }
   ],
   "source": [
    "# Plot a sample of the data\n",
    "# You can choose a different sample by changing\n",
    "idx = 10\n",
    "snr = 18\n",
    "modulation = \"CPFSK\"\n",
    "\n",
    "mask = (dataset.df[\"SNR\"] == snr) & (dataset.df[\"Modulation\"] == modulation)\n",
    "sample = dataset.as_numpy(mask=mask, le=le)[0][idx,0,:]\n",
    "t = np.arange(sample.shape[1])\n",
    "\n",
    "title = \"{modulation} Sample at {snr:.0f} dB SNR\".format(modulation=modulation, snr=snr)\n",
    "fig = plot_IQ(iq=sample, title=title)\n",
    "if fig_dir is not None:\n",
    "    file_path = \"{fig_dir}/{modulation}_{snr:.0f}dB_sample.pdf\".format(fig_dir=fig_dir,\n",
    "                                                                       modulation=modulation,\n",
    "                                                                       snr=snr)\n",
    "    print(\"Saving Figure -> {file_path}\".format(file_path=file_path))\n",
    "    fig.savefig(file_path, format=\"pdf\", transparent=True)\n",
    "plt.show()"
   ]
  },
  {
   "cell_type": "code",
   "execution_count": 9,
   "metadata": {
    "id": "q9OeF-M3KzhQ"
   },
   "outputs": [],
   "source": [
    "class VT_CNN2(Model):\n",
    "    def __init__(\n",
    "        self,\n",
    "        n_classes: int = 11,\n",
    "        dropout: float = 0.5,\n",
    "    ):\n",
    "        super().__init__(input_samples=128, n_classes=n_classes)\n",
    "\n",
    "        self.model = nn.Sequential(\n",
    "            nn.ZeroPad2d(\n",
    "                padding=(\n",
    "                    2,\n",
    "                    2,\n",
    "                    0,\n",
    "                    0,\n",
    "                )\n",
    "            ),  # zero pad front/back of each signal by 2\n",
    "            nn.Conv2d(\n",
    "                in_channels=1, out_channels=256, kernel_size=(1, 3), stride=1, padding=0, bias=False\n",
    "            ),\n",
    "            nn.ReLU(),\n",
    "            nn.Dropout(p=dropout),\n",
    "            nn.ZeroPad2d(\n",
    "                padding=(\n",
    "                    2,\n",
    "                    2,\n",
    "                    0,\n",
    "                    0,\n",
    "                )\n",
    "            ),  # zero pad front/back of each signal by 2\n",
    "            nn.Conv2d(\n",
    "                in_channels=256,\n",
    "                out_channels=80,\n",
    "                kernel_size=(2, 3),\n",
    "                stride=1,\n",
    "                padding=0,\n",
    "            ),\n",
    "            nn.ReLU(),\n",
    "            nn.Dropout(p=dropout),\n",
    "            nn.Flatten(),\n",
    "            nn.Linear(in_features=10560, out_features=256, bias=True),\n",
    "            nn.ReLU(),\n",
    "            nn.Dropout(p=dropout),\n",
    "            nn.Linear(in_features=256, out_features=n_classes, bias=True),\n",
    "        )\n",
    "\n",
    "    def forward(self, x):\n",
    "        return self.model(x)"
   ]
  },
  {
   "cell_type": "code",
   "execution_count": 10,
   "metadata": {
    "colab": {
     "base_uri": "https://localhost:8080/"
    },
    "id": "_JgLBBjLK3Lr",
    "outputId": "3e5fa4fb-0477-425b-eea8-6993f020b33e"
   },
   "outputs": [
    {
     "name": "stdout",
     "output_type": "stream",
     "text": [
      "VT_CNN2(\n",
      "  (model): Sequential(\n",
      "    (0): ZeroPad2d((2, 2, 0, 0))\n",
      "    (1): Conv2d(1, 256, kernel_size=(1, 3), stride=(1, 1), bias=False)\n",
      "    (2): ReLU()\n",
      "    (3): Dropout(p=0.5, inplace=False)\n",
      "    (4): ZeroPad2d((2, 2, 0, 0))\n",
      "    (5): Conv2d(256, 80, kernel_size=(2, 3), stride=(1, 1))\n",
      "    (6): ReLU()\n",
      "    (7): Dropout(p=0.5, inplace=False)\n",
      "    (8): Flatten(start_dim=1, end_dim=-1)\n",
      "    (9): Linear(in_features=10560, out_features=256, bias=True)\n",
      "    (10): ReLU()\n",
      "    (11): Dropout(p=0.5, inplace=False)\n",
      "    (12): Linear(in_features=256, out_features=11, bias=True)\n",
      "  )\n",
      ")\n",
      "----------------------\n",
      "Trainable Parameters: 2830171\n",
      "Fixed Parameters: 0\n",
      "Total Parameters: 2830171\n",
      "----------------------\n",
      "\n",
      "Number of Learnable Parameters: 2830171\n"
     ]
    }
   ],
   "source": [
    "model = VT_CNN2()\n",
    "if torch.cuda.is_available():\n",
    "  model.cuda()\n",
    "\n",
    "# Print model summary\n",
    "print(model)\n",
    "\n",
    "learnable_params = sum(p.numel() for p in model.parameters() if p.requires_grad)\n",
    "print(f'Number of Learnable Parameters: {learnable_params}')"
   ]
  },
  {
   "cell_type": "code",
   "execution_count": 11,
   "metadata": {
    "id": "1DpGQzIqVKW3"
   },
   "outputs": [],
   "source": [
    "lr = 1e-3           # learning rate\n",
    "max_epochs = 100    # number of epochs to train on\n",
    "batch_size = 1024   # training batch size\n",
    "n_classes = 11      # number of classes\n",
    "patience = 5        # patience of early stopping\n",
    "\n",
    "training_listener = PrintingTrainingListener()"
   ]
  },
  {
   "cell_type": "code",
   "execution_count": 12,
   "metadata": {
    "id": "rBXXYFOZKrFg"
   },
   "outputs": [],
   "source": [
    "trainer = StandardTrainingStrategy(lr, max_epochs, patience, batch_size, gpu=True)\n",
    "trainer.register_listener(training_listener)"
   ]
  },
  {
   "cell_type": "code",
   "execution_count": 40,
   "metadata": {
    "colab": {
     "base_uri": "https://localhost:8080/",
     "height": 1000
    },
    "id": "MTy94lvuaWvX",
    "outputId": "fcb1e9d5-a241-48c3-c9f6-0fca1b169de4"
   },
   "outputs": [
    {
     "name": "stdout",
     "output_type": "stream",
     "text": [
      "Epoch 0 completed!\n",
      "\t\t-Mean Training Loss: 2.131\n",
      "\t\t-Mean Validation Loss: 1.935\n",
      "Epoch 1 completed!\n",
      "\t\t-Mean Training Loss: 1.899\n",
      "\t\t-Mean Validation Loss: 1.782\n",
      "Epoch 2 completed!\n",
      "\t\t-Mean Training Loss: 1.766\n",
      "\t\t-Mean Validation Loss: 1.646\n",
      "Epoch 3 completed!\n",
      "\t\t-Mean Training Loss: 1.675\n",
      "\t\t-Mean Validation Loss: 1.558\n",
      "Epoch 4 completed!\n",
      "\t\t-Mean Training Loss: 1.609\n",
      "\t\t-Mean Validation Loss: 1.502\n",
      "Epoch 5 completed!\n",
      "\t\t-Mean Training Loss: 1.553\n",
      "\t\t-Mean Validation Loss: 1.442\n",
      "Epoch 6 completed!\n",
      "\t\t-Mean Training Loss: 1.514\n",
      "\t\t-Mean Validation Loss: 1.409\n",
      "Epoch 7 completed!\n",
      "\t\t-Mean Training Loss: 1.483\n",
      "\t\t-Mean Validation Loss: 1.380\n",
      "Epoch 8 completed!\n",
      "\t\t-Mean Training Loss: 1.461\n",
      "\t\t-Mean Validation Loss: 1.363\n",
      "Epoch 9 completed!\n",
      "\t\t-Mean Training Loss: 1.441\n",
      "\t\t-Mean Validation Loss: 1.344\n",
      "Epoch 10 completed!\n",
      "\t\t-Mean Training Loss: 1.422\n",
      "\t\t-Mean Validation Loss: 1.345\n",
      "Epoch 11 completed!\n",
      "\t\t-Mean Training Loss: 1.411\n",
      "\t\t-Mean Validation Loss: 1.324\n",
      "Epoch 12 completed!\n",
      "\t\t-Mean Training Loss: 1.397\n",
      "\t\t-Mean Validation Loss: 1.319\n",
      "Epoch 13 completed!\n",
      "\t\t-Mean Training Loss: 1.391\n",
      "\t\t-Mean Validation Loss: 1.309\n",
      "Epoch 14 completed!\n",
      "\t\t-Mean Training Loss: 1.383\n",
      "\t\t-Mean Validation Loss: 1.306\n",
      "Epoch 15 completed!\n",
      "\t\t-Mean Training Loss: 1.374\n",
      "\t\t-Mean Validation Loss: 1.305\n",
      "Epoch 16 completed!\n",
      "\t\t-Mean Training Loss: 1.365\n",
      "\t\t-Mean Validation Loss: 1.299\n",
      "Epoch 17 completed!\n",
      "\t\t-Mean Training Loss: 1.363\n",
      "\t\t-Mean Validation Loss: 1.289\n",
      "Epoch 18 completed!\n",
      "\t\t-Mean Training Loss: 1.350\n",
      "\t\t-Mean Validation Loss: 1.287\n",
      "Epoch 19 completed!\n",
      "\t\t-Mean Training Loss: 1.348\n",
      "\t\t-Mean Validation Loss: 1.284\n",
      "Epoch 20 completed!\n",
      "\t\t-Mean Training Loss: 1.339\n",
      "\t\t-Mean Validation Loss: 1.284\n",
      "Epoch 21 completed!\n",
      "\t\t-Mean Training Loss: 1.333\n",
      "\t\t-Mean Validation Loss: 1.271\n",
      "Epoch 22 completed!\n",
      "\t\t-Mean Training Loss: 1.324\n",
      "\t\t-Mean Validation Loss: 1.270\n",
      "Epoch 23 completed!\n",
      "\t\t-Mean Training Loss: 1.320\n",
      "\t\t-Mean Validation Loss: 1.265\n",
      "Epoch 24 completed!\n",
      "\t\t-Mean Training Loss: 1.313\n",
      "\t\t-Mean Validation Loss: 1.260\n",
      "Epoch 25 completed!\n",
      "\t\t-Mean Training Loss: 1.308\n",
      "\t\t-Mean Validation Loss: 1.257\n",
      "Epoch 26 completed!\n",
      "\t\t-Mean Training Loss: 1.303\n",
      "\t\t-Mean Validation Loss: 1.257\n",
      "Epoch 27 completed!\n",
      "\t\t-Mean Training Loss: 1.300\n",
      "\t\t-Mean Validation Loss: 1.252\n",
      "Epoch 28 completed!\n",
      "\t\t-Mean Training Loss: 1.295\n",
      "\t\t-Mean Validation Loss: 1.252\n",
      "Epoch 29 completed!\n",
      "\t\t-Mean Training Loss: 1.288\n",
      "\t\t-Mean Validation Loss: 1.247\n",
      "Epoch 30 completed!\n",
      "\t\t-Mean Training Loss: 1.288\n",
      "\t\t-Mean Validation Loss: 1.248\n",
      "Epoch 31 completed!\n",
      "\t\t-Mean Training Loss: 1.284\n",
      "\t\t-Mean Validation Loss: 1.246\n",
      "Epoch 32 completed!\n",
      "\t\t-Mean Training Loss: 1.277\n",
      "\t\t-Mean Validation Loss: 1.246\n",
      "Epoch 33 completed!\n",
      "\t\t-Mean Training Loss: 1.273\n",
      "\t\t-Mean Validation Loss: 1.243\n",
      "Epoch 34 completed!\n",
      "\t\t-Mean Training Loss: 1.272\n",
      "\t\t-Mean Validation Loss: 1.242\n",
      "Epoch 35 completed!\n",
      "\t\t-Mean Training Loss: 1.268\n",
      "\t\t-Mean Validation Loss: 1.242\n",
      "Epoch 36 completed!\n",
      "\t\t-Mean Training Loss: 1.264\n",
      "\t\t-Mean Validation Loss: 1.241\n",
      "Epoch 37 completed!\n",
      "\t\t-Mean Training Loss: 1.259\n",
      "\t\t-Mean Validation Loss: 1.239\n",
      "Epoch 38 completed!\n",
      "\t\t-Mean Training Loss: 1.256\n",
      "\t\t-Mean Validation Loss: 1.235\n",
      "Epoch 39 completed!\n",
      "\t\t-Mean Training Loss: 1.251\n",
      "\t\t-Mean Validation Loss: 1.238\n",
      "Epoch 40 completed!\n",
      "\t\t-Mean Training Loss: 1.249\n",
      "\t\t-Mean Validation Loss: 1.235\n",
      "Epoch 41 completed!\n",
      "\t\t-Mean Training Loss: 1.246\n",
      "\t\t-Mean Validation Loss: 1.239\n",
      "Epoch 42 completed!\n",
      "\t\t-Mean Training Loss: 1.241\n",
      "\t\t-Mean Validation Loss: 1.232\n",
      "Epoch 43 completed!\n",
      "\t\t-Mean Training Loss: 1.237\n",
      "\t\t-Mean Validation Loss: 1.234\n",
      "Epoch 44 completed!\n",
      "\t\t-Mean Training Loss: 1.235\n",
      "\t\t-Mean Validation Loss: 1.238\n",
      "Epoch 45 completed!\n",
      "\t\t-Mean Training Loss: 1.235\n",
      "\t\t-Mean Validation Loss: 1.234\n",
      "Epoch 46 completed!\n",
      "\t\t-Mean Training Loss: 1.232\n",
      "\t\t-Mean Validation Loss: 1.231\n",
      "Epoch 47 completed!\n",
      "\t\t-Mean Training Loss: 1.230\n",
      "\t\t-Mean Validation Loss: 1.235\n",
      "Epoch 48 completed!\n",
      "\t\t-Mean Training Loss: 1.225\n",
      "\t\t-Mean Validation Loss: 1.233\n",
      "Epoch 49 completed!\n",
      "\t\t-Mean Training Loss: 1.221\n",
      "\t\t-Mean Validation Loss: 1.230\n",
      "Epoch 50 completed!\n",
      "\t\t-Mean Training Loss: 1.220\n",
      "\t\t-Mean Validation Loss: 1.232\n",
      "Epoch 51 completed!\n",
      "\t\t-Mean Training Loss: 1.214\n",
      "\t\t-Mean Validation Loss: 1.237\n",
      "Epoch 52 completed!\n",
      "\t\t-Mean Training Loss: 1.210\n",
      "\t\t-Mean Validation Loss: 1.233\n",
      "Epoch 53 completed!\n",
      "\t\t-Mean Training Loss: 1.211\n",
      "\t\t-Mean Validation Loss: 1.228\n",
      "Epoch 54 completed!\n",
      "\t\t-Mean Training Loss: 1.208\n",
      "\t\t-Mean Validation Loss: 1.241\n",
      "Epoch 55 completed!\n",
      "\t\t-Mean Training Loss: 1.205\n",
      "\t\t-Mean Validation Loss: 1.229\n",
      "Epoch 56 completed!\n",
      "\t\t-Mean Training Loss: 1.199\n",
      "\t\t-Mean Validation Loss: 1.229\n",
      "Epoch 57 completed!\n",
      "\t\t-Mean Training Loss: 1.199\n",
      "\t\t-Mean Validation Loss: 1.230\n",
      "Epoch 58 completed!\n",
      "\t\t-Mean Training Loss: 1.195\n",
      "\t\t-Mean Validation Loss: 1.228\n",
      "Epoch 59 completed!\n",
      "\t\t-Mean Training Loss: 1.194\n",
      "\t\t-Mean Validation Loss: 1.229\n",
      "Epoch 60 completed!\n",
      "\t\t-Mean Training Loss: 1.193\n",
      "\t\t-Mean Validation Loss: 1.229\n",
      "Epoch 61 completed!\n",
      "\t\t-Mean Training Loss: 1.188\n",
      "\t\t-Mean Validation Loss: 1.228\n",
      "Epoch 62 completed!\n",
      "\t\t-Mean Training Loss: 1.185\n",
      "\t\t-Mean Validation Loss: 1.240\n",
      "Epoch 63 completed!\n",
      "\t\t-Mean Training Loss: 1.186\n",
      "\t\t-Mean Validation Loss: 1.229\n",
      "Training has Completed:\n",
      "\n",
      "=======================\n",
      "\tBest Validation Loss: 1.228\n",
      "\tBest Epoch: 58\n",
      "\tTotal Epochs: 63\n",
      "=======================\n"
     ]
    },
    {
     "ename": "TypeError",
     "evalue": "cannot unpack non-iterable NoneType object",
     "output_type": "error",
     "traceback": [
      "\u001b[0;31m---------------------------------------------------------------------------\u001b[0m",
      "\u001b[0;31mTypeError\u001b[0m                                 Traceback (most recent call last)",
      "\u001b[0;32m<ipython-input-40-cfda9fee31d2>\u001b[0m in \u001b[0;36m<cell line: 1>\u001b[0;34m()\u001b[0m\n\u001b[0;32m----> 1\u001b[0;31m train_loss, val_loss = trainer(model=model,\n\u001b[0m\u001b[1;32m      2\u001b[0m                                \u001b[0mtraining\u001b[0m\u001b[0;34m=\u001b[0m\u001b[0mtrain\u001b[0m\u001b[0;34m,\u001b[0m\u001b[0;34m\u001b[0m\u001b[0;34m\u001b[0m\u001b[0m\n\u001b[1;32m      3\u001b[0m                                \u001b[0mvalidation\u001b[0m\u001b[0;34m=\u001b[0m\u001b[0mtest\u001b[0m\u001b[0;34m,\u001b[0m\u001b[0;34m\u001b[0m\u001b[0;34m\u001b[0m\u001b[0m\n\u001b[1;32m      4\u001b[0m                                le=le)\n",
      "\u001b[0;31mTypeError\u001b[0m: cannot unpack non-iterable NoneType object"
     ]
    }
   ],
   "source": [
    "trainer(model=model,\n",
    "                               training=train,\n",
    "                               validation=test,\n",
    "                               le=le)\n",
    "model.save('./drive/MyDrive/VTCNN2_100Epochs.pt')"
   ]
  },
  {
   "cell_type": "code",
   "execution_count": 13,
   "metadata": {
    "id": "Ylvi2Gq4powe"
   },
   "outputs": [],
   "source": [
    "model.load('./VTCNN2_100Epochs.pt')"
   ]
  },
  {
   "cell_type": "code",
   "execution_count": 16,
   "metadata": {
    "colab": {
     "base_uri": "https://localhost:8080/"
    },
    "id": "nSbp-lL8H5cD",
    "outputId": "ead45d7c-6b42-4bf8-c65f-ca1a171a5437"
   },
   "outputs": [
    {
     "name": "stdout",
     "output_type": "stream",
     "text": [
      "Overall Testing Accuracy: 54.05%\n"
     ]
    }
   ],
   "source": [
    "acc = compute_accuracy(model=model, data=test, le=le)\n",
    "print(\"Overall Testing Accuracy: {:.2f}%\".format(acc * 100))"
   ]
  },
  {
   "cell_type": "code",
   "execution_count": 17,
   "metadata": {
    "colab": {
     "base_uri": "https://localhost:8080/",
     "height": 862
    },
    "id": "u_bq3t-ak3RA",
    "outputId": "84adb276-7aa5-4b32-edbe-27ca170da08c"
   },
   "outputs": [
    {
     "data": {
      "image/png": "[encoded data removed]",
      "text/plain": [
       "<Figure size 720x360 with 1 Axes>"
      ]
     },
     "metadata": {
      "needs_background": "light"
     },
     "output_type": "display_data"
    },
    {
     "name": "stdout",
     "output_type": "stream",
     "text": [
      "\n",
      "SNR: -20, Overall Accuracy: 9.91%\n",
      "SNR: -18, Overall Accuracy: 9.60%\n",
      "SNR: -16, Overall Accuracy: 9.35%\n",
      "SNR: -14, Overall Accuracy: 10.80%\n",
      "SNR: -12, Overall Accuracy: 13.78%\n",
      "SNR: -10, Overall Accuracy: 22.45%\n",
      "SNR: -8, Overall Accuracy: 34.98%\n",
      "SNR: -6, Overall Accuracy: 48.05%\n",
      "SNR: -4, Overall Accuracy: 57.98%\n",
      "SNR: -2, Overall Accuracy: 67.89%\n",
      "SNR: 0, Overall Accuracy: 76.29%\n",
      "SNR: 2, Overall Accuracy: 78.73%\n",
      "SNR: 4, Overall Accuracy: 79.55%\n",
      "SNR: 6, Overall Accuracy: 80.44%\n",
      "SNR: 8, Overall Accuracy: 80.25%\n",
      "SNR: 10, Overall Accuracy: 80.60%\n",
      "SNR: 12, Overall Accuracy: 80.18%\n",
      "SNR: 14, Overall Accuracy: 80.25%\n",
      "SNR: 16, Overall Accuracy: 79.73%\n",
      "SNR: 18, Overall Accuracy: 80.20%\n"
     ]
    }
   ],
   "source": [
    "acc_vs_snr, snr = compute_accuracy_on_cross_sections(model=model,\n",
    "                                                     data=test,\n",
    "                                                     le=le,\n",
    "                                                     column=\"SNR\")\n",
    "\n",
    "title = \"Accuracy vs SNR of {model_name} on {dataset_name}\".format(model_name=\"VT_CNN2\", dataset_name=\"RML2016.10A\")\n",
    "fig = plot_acc_vs_snr(acc_vs_snr=acc_vs_snr, snr=snr, title=title)\n",
    "if fig_dir is not None:\n",
    "    file_path = \"{fig_dir}/acc_vs_snr.pdf\"\n",
    "    print(\"Saving Figure -> {file_path}\".format(file_path=file_path))\n",
    "    fig.savefig(file_path, format=\"pdf\", transparent=True)\n",
    "plt.show()\n",
    "\n",
    "print()\n",
    "for idx in np.argsort(snr):\n",
    "    print(\"SNR: {}, Overall Accuracy: {:.2f}%\".format(snr[idx], acc_vs_snr[idx] * 100))"
   ]
  },
  {
   "cell_type": "code",
   "execution_count": 18,
   "metadata": {
    "colab": {
     "base_uri": "https://localhost:8080/",
     "height": 529
    },
    "id": "PJ158x1xqaR8",
    "outputId": "2f76ee22-8e20-4d21-d4d1-a61d13699ac7"
   },
   "outputs": [
    {
     "data": {
      "image/png": "[encoded data removed]",
      "text/plain": [
       "<Figure size 720x360 with 2 Axes>"
      ]
     },
     "metadata": {
      "needs_background": "light"
     },
     "output_type": "display_data"
    }
   ],
   "source": [
    "cmn = compute_confusion(model=model, data=test, le=le)\n",
    "\n",
    "title = \"Confusion Matrix of {model_name} on {dataset_name}\".format(model_name=\"VT_CNN2\", dataset_name=\"RML2016.10A\")\n",
    "fig = plot_confusion(cm=cmn, labels=le.labels, title=title)\n",
    "if fig_dir is not None:\n",
    "    file_path = \"{fig_dir}/confusion_matrix.pdf\"\n",
    "    print(\"Saving Figure -> {file_path}\".format(file_path=file_path))\n",
    "    fig.savefig(file_path, format=\"pdf\", transparent=True)\n",
    "plt.show()"
   ]
  },
  {
   "cell_type": "markdown",
   "metadata": {},
   "source": [
    "# Attacks"
   ]
  },
  {
   "cell_type": "code",
   "execution_count": null,
   "metadata": {},
   "outputs": [],
   "source": [
    "!pip install torchattacks"
   ]
  },
  {
   "cell_type": "code",
   "execution_count": 22,
   "metadata": {},
   "outputs": [],
   "source": [
    "import torchattacks"
   ]
  },
  {
   "cell_type": "code",
   "execution_count": 55,
   "metadata": {},
   "outputs": [],
   "source": [
    "pgd_atk = torchattacks.PGD(model, eps=8/255, alpha=2/225, steps=10, random_start=True)\n",
    "fgsm_atk = fgsm_atk = torchattacks.FGSM(model, eps=8/255)\n",
    "deepfool_atk = torchattacks.DeepFool(model, steps=50, overshoot=0.02)"
   ]
  },
  {
   "cell_type": "code",
   "execution_count": 63,
   "metadata": {},
   "outputs": [],
   "source": [
    "def compute_accuracy_after_atks(\n",
    "    model: Model,\n",
    "    data: Dataset,\n",
    "    le: Encoder,\n",
    "    atks: List[torchattacks.attack.Attack],\n",
    "    batch_size: int = 512,\n",
    "    mask: DataFrame.mask = None\n",
    "):\n",
    "    dl = DataLoader(\n",
    "        data.as_torch(le=le, mask=mask), shuffle=True, batch_size=batch_size\n",
    "    )\n",
    "\n",
    "    total = 0\n",
    "    corrects = {atk.__class__.__name__: 0 for atk in atks}\n",
    "    corrects[model.__class__.__name__] = 0\n",
    "\n",
    "    for batch, data in enumerate(dl):\n",
    "        inputs, labels = data\n",
    "        \n",
    "        predictions = model.predict(inputs)\n",
    "        corrects[model.__class__.__name__] += (predictions == labels).sum().item()\n",
    "        total += len(labels)\n",
    "\n",
    "        for atk in atks:\n",
    "            adv_inputs = atk(inputs, labels)\n",
    "            adv_predictions = model.predict(adv_inputs)\n",
    "            corrects[atk.__class__.__name__] += (adv_predictions == labels).sum().item()\n",
    "        \n",
    "        print(f'Batch: {batch}, Total: {total}, Corrects: {corrects}')\n",
    "        \n",
    "    accuracies = {k: float(corrects[k]) / total for k in corrects}\n",
    "    \n",
    "    return accuracies"
   ]
  },
  {
   "cell_type": "code",
   "execution_count": 76,
   "metadata": {},
   "outputs": [
    {
     "name": "stderr",
     "output_type": "stream",
     "text": [
      "/home/u111187/sameni/rfml/rfml/data/dataset.py:237: UserWarning: Boolean Series key will be reindexed to match DataFrame index.\n",
      "  df = df[mask]\n"
     ]
    },
    {
     "name": "stdout",
     "output_type": "stream",
     "text": [
      "Batch: 0, Total: 512, Corrects: {'PGD': 0, 'FGSM': 38, 'DeepFool': 8, 'VT_CNN2': 401}\n",
      "Batch: 1, Total: 1024, Corrects: {'PGD': 0, 'FGSM': 76, 'DeepFool': 13, 'VT_CNN2': 808}\n",
      "Batch: 2, Total: 1536, Corrects: {'PGD': 0, 'FGSM': 110, 'DeepFool': 16, 'VT_CNN2': 1221}\n",
      "Batch: 3, Total: 2048, Corrects: {'PGD': 0, 'FGSM': 148, 'DeepFool': 22, 'VT_CNN2': 1643}\n",
      "Batch: 4, Total: 2560, Corrects: {'PGD': 0, 'FGSM': 187, 'DeepFool': 25, 'VT_CNN2': 2048}\n",
      "Batch: 5, Total: 3072, Corrects: {'PGD': 0, 'FGSM': 231, 'DeepFool': 28, 'VT_CNN2': 2471}\n",
      "Batch: 6, Total: 3584, Corrects: {'PGD': 0, 'FGSM': 276, 'DeepFool': 34, 'VT_CNN2': 2881}\n",
      "Batch: 7, Total: 4096, Corrects: {'PGD': 0, 'FGSM': 314, 'DeepFool': 37, 'VT_CNN2': 3297}\n",
      "Batch: 8, Total: 4608, Corrects: {'PGD': 0, 'FGSM': 358, 'DeepFool': 46, 'VT_CNN2': 3691}\n",
      "Batch: 9, Total: 5120, Corrects: {'PGD': 0, 'FGSM': 408, 'DeepFool': 51, 'VT_CNN2': 4109}\n",
      "Batch: 10, Total: 5500, Corrects: {'PGD': 0, 'FGSM': 441, 'DeepFool': 53, 'VT_CNN2': 4411}\n"
     ]
    }
   ],
   "source": [
    "atks = [pgd_atk, fgsm_atk, deepfool_atk]\n",
    "mask = (dataset.df[\"SNR\"] == 18)\n",
    "accuracies = compute_accuracy_after_atks(model, test, le, atks, mask=mask)"
   ]
  },
  {
   "cell_type": "code",
   "execution_count": 77,
   "metadata": {},
   "outputs": [
    {
     "name": "stdout",
     "output_type": "stream",
     "text": [
      "PGD: 0.0%\n",
      "FGSM: 8.01818181818182%\n",
      "DeepFool: 0.9636363636363635%\n",
      "VT_CNN2: 80.2%\n"
     ]
    }
   ],
   "source": [
    "for k in accuracies:\n",
    "    print(f'{k}: {accuracies[k] * 100}%')"
   ]
  }
 ],
 "metadata": {
  "accelerator": "GPU",
  "colab": {
   "gpuType": "T4",
   "provenance": []
  },
  "kernelspec": {
   "display_name": "Python 3 (ipykernel)",
   "language": "python",
   "name": "python3"
  },
  "language_info": {
   "codemirror_mode": {
    "name": "ipython",
    "version": 3
   },
   "file_extension": ".py",
   "mimetype": "text/x-python",
   "name": "python",
   "nbconvert_exporter": "python",
   "pygments_lexer": "ipython3",
   "version": "3.10.4"
  }
 },
 "nbformat": 4,
 "nbformat_minor": 4
}
